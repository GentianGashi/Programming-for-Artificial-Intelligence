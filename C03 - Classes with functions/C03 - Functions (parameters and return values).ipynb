{
 "cells": [
  {
   "cell_type": "markdown",
   "id": "3461249e",
   "metadata": {},
   "source": [
    "## PART 1 : Introduction to Programming Artificial Intelligence Class 3\n",
    "\n",
    "Assessment"
   ]
  },
  {
   "cell_type": "markdown",
   "id": "39d982ce",
   "metadata": {},
   "source": [
    "### Exercise 1\n",
    "\n",
    "Write a python function that accepts two arguments and returns their\n",
    "sum. It should be polymorphic."
   ]
  },
  {
   "cell_type": "code",
   "execution_count": 20,
   "id": "ba62fffc",
   "metadata": {},
   "outputs": [
    {
     "data": {
      "text/plain": [
       "15"
      ]
     },
     "execution_count": 20,
     "metadata": {},
     "output_type": "execute_result"
    }
   ],
   "source": [
    "def E1 (a, b):\n",
    "    return a + b\n",
    "\n",
    "E1(5,10)"
   ]
  },
  {
   "cell_type": "markdown",
   "id": "0b2889e7",
   "metadata": {},
   "source": [
    "### Exercise 2\n",
    "Implement a python function that accepts a list and compute its sum.\n",
    "E.g.:"
   ]
  },
  {
   "cell_type": "code",
   "execution_count": 21,
   "id": "47ce37b8",
   "metadata": {},
   "outputs": [
    {
     "data": {
      "text/plain": [
       "10"
      ]
     },
     "execution_count": 21,
     "metadata": {},
     "output_type": "execute_result"
    }
   ],
   "source": [
    "def E2 (MyList):\n",
    "    sum=0\n",
    "    for element in MyList:\n",
    "        sum+=element\n",
    "    return(sum)\n",
    "    \n",
    "\n",
    "E2([1,2,3,4])"
   ]
  },
  {
   "cell_type": "markdown",
   "id": "e85433bc",
   "metadata": {},
   "source": [
    "### Exercise 3 \n",
    "Implement a Python function that accepts two lists and returns a third\n",
    "list containing the element-wise sums. This operation only makes sense\n",
    "if the lists are the same size, so check for that and return nothing when a\n",
    "size mismatch is detected. E.g."
   ]
  },
  {
   "cell_type": "code",
   "execution_count": 22,
   "id": "d1d39712",
   "metadata": {},
   "outputs": [
    {
     "data": {
      "text/plain": [
       "[5, 7, 9]"
      ]
     },
     "execution_count": 22,
     "metadata": {},
     "output_type": "execute_result"
    }
   ],
   "source": [
    "def E3 (first, second):\n",
    "    if len(first) == len(second):\n",
    "        return ([x + y for x, y in zip(first, second)])\n",
    "    else:\n",
    "        return \"None\"\n",
    "\n",
    "E3([1, 2, 3],[4, 5, 6])"
   ]
  },
  {
   "cell_type": "markdown",
   "id": "332a7314",
   "metadata": {},
   "source": [
    "### Exercise 4\n",
    "Update your solution to exercise 3 to accept the KWARGs: “Arg1” and\n",
    "“Arg2”, their values are the lists."
   ]
  },
  {
   "cell_type": "code",
   "execution_count": 23,
   "id": "e1c95960",
   "metadata": {},
   "outputs": [
    {
     "data": {
      "text/plain": [
       "[5, 7, 9]"
      ]
     },
     "execution_count": 23,
     "metadata": {},
     "output_type": "execute_result"
    }
   ],
   "source": [
    "def E4(**kwargs):\n",
    "    for i in range(len(kwargs)):\n",
    "        Arg1 = list(kwargs.values())[i]\n",
    "        Arg2 = list(kwargs.values())[i+1]\n",
    "        if len(Arg1) == len(Arg2):\n",
    "            return ([x + y for x, y in zip(Arg1, Arg2)])\n",
    "        else:\n",
    "            print(\"None\")\n",
    "\n",
    "E4(arg1=[1, 2, 3],arg2=[4, 5, 6])"
   ]
  },
  {
   "cell_type": "markdown",
   "id": "de39bcd4",
   "metadata": {},
   "source": [
    "### Exercise 5\n",
    "Update your solution to exercise 4 to return a tuple of the form (len, listof-sums)"
   ]
  },
  {
   "cell_type": "code",
   "execution_count": 29,
   "id": "235b9aef",
   "metadata": {},
   "outputs": [
    {
     "ename": "AttributeError",
     "evalue": "'tuple' object has no attribute 'dtype'",
     "output_type": "error",
     "traceback": [
      "\u001b[0;31m---------------------------------------------------------------------------\u001b[0m",
      "\u001b[0;31mAttributeError\u001b[0m                            Traceback (most recent call last)",
      "\u001b[0;32m/tmp/ipykernel_3066036/3553976257.py\u001b[0m in \u001b[0;36m<module>\u001b[0;34m\u001b[0m\n\u001b[1;32m      7\u001b[0m             \u001b[0;32mreturn\u001b[0m \u001b[0;34m(\u001b[0m\u001b[0mlen\u001b[0m\u001b[0;34m(\u001b[0m\u001b[0msum\u001b[0m\u001b[0;34m)\u001b[0m\u001b[0;34m,\u001b[0m \u001b[0msum\u001b[0m\u001b[0;34m)\u001b[0m\u001b[0;34m.\u001b[0m\u001b[0mdtype\u001b[0m\u001b[0;34m\u001b[0m\u001b[0;34m\u001b[0m\u001b[0m\n\u001b[1;32m      8\u001b[0m \u001b[0;34m\u001b[0m\u001b[0m\n\u001b[0;32m----> 9\u001b[0;31m \u001b[0mE5\u001b[0m\u001b[0;34m(\u001b[0m\u001b[0marg1\u001b[0m\u001b[0;34m=\u001b[0m\u001b[0;34m[\u001b[0m\u001b[0;36m1\u001b[0m\u001b[0;34m,\u001b[0m \u001b[0;36m2\u001b[0m\u001b[0;34m,\u001b[0m \u001b[0;36m3\u001b[0m\u001b[0;34m]\u001b[0m\u001b[0;34m,\u001b[0m\u001b[0marg2\u001b[0m\u001b[0;34m=\u001b[0m\u001b[0;34m[\u001b[0m\u001b[0;36m4\u001b[0m\u001b[0;34m,\u001b[0m \u001b[0;36m5\u001b[0m\u001b[0;34m,\u001b[0m \u001b[0;36m6\u001b[0m\u001b[0;34m]\u001b[0m\u001b[0;34m)\u001b[0m\u001b[0;34m\u001b[0m\u001b[0;34m\u001b[0m\u001b[0m\n\u001b[0m",
      "\u001b[0;32m/tmp/ipykernel_3066036/3553976257.py\u001b[0m in \u001b[0;36mE5\u001b[0;34m(**kwargs)\u001b[0m\n\u001b[1;32m      5\u001b[0m         \u001b[0;32mif\u001b[0m \u001b[0mlen\u001b[0m\u001b[0;34m(\u001b[0m\u001b[0mArg1\u001b[0m\u001b[0;34m)\u001b[0m \u001b[0;34m==\u001b[0m \u001b[0mlen\u001b[0m\u001b[0;34m(\u001b[0m\u001b[0mArg2\u001b[0m\u001b[0;34m)\u001b[0m\u001b[0;34m:\u001b[0m\u001b[0;34m\u001b[0m\u001b[0;34m\u001b[0m\u001b[0m\n\u001b[1;32m      6\u001b[0m             \u001b[0msum\u001b[0m\u001b[0;34m=\u001b[0m\u001b[0;34m(\u001b[0m\u001b[0;34m[\u001b[0m\u001b[0mx\u001b[0m \u001b[0;34m+\u001b[0m \u001b[0my\u001b[0m \u001b[0;32mfor\u001b[0m \u001b[0mx\u001b[0m\u001b[0;34m,\u001b[0m \u001b[0my\u001b[0m \u001b[0;32min\u001b[0m \u001b[0mzip\u001b[0m\u001b[0;34m(\u001b[0m\u001b[0mArg1\u001b[0m\u001b[0;34m,\u001b[0m \u001b[0mArg2\u001b[0m\u001b[0;34m)\u001b[0m\u001b[0;34m]\u001b[0m\u001b[0;34m)\u001b[0m\u001b[0;34m\u001b[0m\u001b[0;34m\u001b[0m\u001b[0m\n\u001b[0;32m----> 7\u001b[0;31m             \u001b[0;32mreturn\u001b[0m \u001b[0;34m(\u001b[0m\u001b[0mlen\u001b[0m\u001b[0;34m(\u001b[0m\u001b[0msum\u001b[0m\u001b[0;34m)\u001b[0m\u001b[0;34m,\u001b[0m \u001b[0msum\u001b[0m\u001b[0;34m)\u001b[0m\u001b[0;34m.\u001b[0m\u001b[0mdtype\u001b[0m\u001b[0;34m\u001b[0m\u001b[0;34m\u001b[0m\u001b[0m\n\u001b[0m\u001b[1;32m      8\u001b[0m \u001b[0;34m\u001b[0m\u001b[0m\n\u001b[1;32m      9\u001b[0m \u001b[0mE5\u001b[0m\u001b[0;34m(\u001b[0m\u001b[0marg1\u001b[0m\u001b[0;34m=\u001b[0m\u001b[0;34m[\u001b[0m\u001b[0;36m1\u001b[0m\u001b[0;34m,\u001b[0m \u001b[0;36m2\u001b[0m\u001b[0;34m,\u001b[0m \u001b[0;36m3\u001b[0m\u001b[0;34m]\u001b[0m\u001b[0;34m,\u001b[0m\u001b[0marg2\u001b[0m\u001b[0;34m=\u001b[0m\u001b[0;34m[\u001b[0m\u001b[0;36m4\u001b[0m\u001b[0;34m,\u001b[0m \u001b[0;36m5\u001b[0m\u001b[0;34m,\u001b[0m \u001b[0;36m6\u001b[0m\u001b[0;34m]\u001b[0m\u001b[0;34m)\u001b[0m\u001b[0;34m\u001b[0m\u001b[0;34m\u001b[0m\u001b[0m\n",
      "\u001b[0;31mAttributeError\u001b[0m: 'tuple' object has no attribute 'dtype'"
     ]
    }
   ],
   "source": [
    "def E5(**kwargs):\n",
    "    for i in range(len(kwargs)):\n",
    "        Arg1 = list(kwargs.values())[i]\n",
    "        Arg2 = list(kwargs.values())[i+1]\n",
    "        if len(Arg1) == len(Arg2):\n",
    "            sum=([x + y for x, y in zip(Arg1, Arg2)])   \n",
    "            return (len(sum), sum).dtype\n",
    "\n",
    "E5(arg1=[1, 2, 3],arg2=[4, 5, 6])"
   ]
  },
  {
   "cell_type": "markdown",
   "id": "033da764",
   "metadata": {},
   "source": [
    "### Exercise 6\n",
    "Implement a function that computes the Fibonacci sequence (Recall that\n",
    "the sequence is constructed as Fi = Fi-2 + Fi-1). It will accept an argument\n",
    "for the length of the desired sequence. Feel free to use either iteration\n",
    "or recursion. Fib(6)à[0, 1, 1, 2, 3, 5]"
   ]
  },
  {
   "cell_type": "code",
   "execution_count": 26,
   "id": "348d4859",
   "metadata": {},
   "outputs": [
    {
     "name": "stdout",
     "output_type": "stream",
     "text": [
      "[1, 1, 2, 3, 5, 8]\n"
     ]
    }
   ],
   "source": [
    "def E6 (n):\n",
    "    Fib_List = []\n",
    "    a,b = 0,1\n",
    "    while b < n:\n",
    "        a,b = b,a+b\n",
    "        Fib_List.append(a)\n",
    "    print(Fib_List)\n",
    "    \n",
    "E6(10)\n"
   ]
  }
 ],
 "metadata": {
  "kernelspec": {
   "display_name": "Python 3 (ipykernel)",
   "language": "python",
   "name": "python3"
  },
  "language_info": {
   "codemirror_mode": {
    "name": "ipython",
    "version": 3
   },
   "file_extension": ".py",
   "mimetype": "text/x-python",
   "name": "python",
   "nbconvert_exporter": "python",
   "pygments_lexer": "ipython3",
   "version": "3.8.10"
  }
 },
 "nbformat": 4,
 "nbformat_minor": 5
}
