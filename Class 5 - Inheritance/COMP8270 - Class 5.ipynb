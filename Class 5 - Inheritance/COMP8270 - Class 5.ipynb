{
 "cells": [
  {
   "cell_type": "markdown",
   "id": "172b74c3",
   "metadata": {},
   "source": [
    "## Classes"
   ]
  },
  {
   "cell_type": "code",
   "execution_count": 88,
   "id": "cd4c4430",
   "metadata": {},
   "outputs": [],
   "source": [
    "from abc import ABC, abstractmethod\n",
    "\n",
    "class Account(ABC):\n",
    "    def __init__(self, account_number, balance):\n",
    "        self._account_number = account_number\n",
    "        self._balance = balance\n",
    "        \n",
    "    def deposit(self, value):\n",
    "        if value > 0:\n",
    "            self._balance += value\n",
    "        else:\n",
    "            print(\"Invalid value to deposit:\", value)\n",
    "    \n",
    "    def withdraw(self, value):\n",
    "        if value > 0 and value <= self._balance:\n",
    "            self._balance -= value\n",
    "        else:\n",
    "            print(\"Invalid value to withdraw:\", value)\n",
    "    \n",
    "    @property\n",
    "    def account_number(self):\n",
    "        return self._account_number\n",
    "    \n",
    "    @property\n",
    "    def balance(self):\n",
    "        return self._balance\n",
    "    \n",
    "    @abstractmethod\n",
    "    def description(self):\n",
    "        pass"
   ]
  },
  {
   "cell_type": "code",
   "execution_count": 99,
   "id": "98c0b15b",
   "metadata": {},
   "outputs": [],
   "source": [
    "class SavingsAccount(Account):\n",
    "    def __init__(self, account_number, balance, interest=0.02):\n",
    "        super().__init__(account_number, balance)\n",
    "        self._interest = interest\n",
    "        \n",
    "    def annual_interest(self):\n",
    "        return self.balance * self._interest\n",
    "    \n",
    "    @property\n",
    "    def interest(self):\n",
    "        '''\n",
    "        This method is not part of the exercise\n",
    "        '''\n",
    "        return self._interest\n",
    "    \n",
    "    def description(self):\n",
    "        return \"savings\""
   ]
  },
  {
   "cell_type": "code",
   "execution_count": 100,
   "id": "180295fd",
   "metadata": {},
   "outputs": [],
   "source": [
    "class CurrentAccount(Account):\n",
    "    def __init__(self, account_number, balance, overdraft=100):\n",
    "        super().__init__(account_number, balance)\n",
    "        self._overdraft = overdraft\n",
    "        \n",
    "    def withdraw(self, value):\n",
    "        if value > 0 and value <= (self._balance + self._overdraft):\n",
    "            self._balance -= value\n",
    "        else:\n",
    "            print(\"Invalid value to withdraw:\", value)\n",
    "            \n",
    "    @property\n",
    "    def overdraft(self):\n",
    "        '''\n",
    "        This method is not part of the exercise\n",
    "        '''\n",
    "        return self._overdraft\n",
    "            \n",
    "    def description(self):\n",
    "        return \"current\""
   ]
  },
  {
   "cell_type": "markdown",
   "id": "5b0ab21b",
   "metadata": {},
   "source": [
    "## Testing"
   ]
  },
  {
   "cell_type": "code",
   "execution_count": 106,
   "id": "56f53fca",
   "metadata": {},
   "outputs": [],
   "source": [
    "s = SavingsAccount(\"1\", 1000)"
   ]
  },
  {
   "cell_type": "code",
   "execution_count": 107,
   "id": "921cc26e",
   "metadata": {},
   "outputs": [
    {
     "data": {
      "text/plain": [
       "1000"
      ]
     },
     "execution_count": 107,
     "metadata": {},
     "output_type": "execute_result"
    }
   ],
   "source": [
    "s.balance"
   ]
  },
  {
   "cell_type": "code",
   "execution_count": 108,
   "id": "1f08925c",
   "metadata": {},
   "outputs": [
    {
     "data": {
      "text/plain": [
       "0.02"
      ]
     },
     "execution_count": 108,
     "metadata": {},
     "output_type": "execute_result"
    }
   ],
   "source": [
    "s.interest"
   ]
  },
  {
   "cell_type": "code",
   "execution_count": 109,
   "id": "3386d13c",
   "metadata": {},
   "outputs": [
    {
     "data": {
      "text/plain": [
       "20.0"
      ]
     },
     "execution_count": 109,
     "metadata": {},
     "output_type": "execute_result"
    }
   ],
   "source": [
    "s.annual_interest()"
   ]
  },
  {
   "cell_type": "code",
   "execution_count": 110,
   "id": "a40a35d3",
   "metadata": {},
   "outputs": [],
   "source": [
    "c = CurrentAccount(\"2\", 50)"
   ]
  },
  {
   "cell_type": "code",
   "execution_count": 111,
   "id": "d50b3c48",
   "metadata": {},
   "outputs": [
    {
     "data": {
      "text/plain": [
       "50"
      ]
     },
     "execution_count": 111,
     "metadata": {},
     "output_type": "execute_result"
    }
   ],
   "source": [
    "c.balance"
   ]
  },
  {
   "cell_type": "code",
   "execution_count": 112,
   "id": "e0eb20a5",
   "metadata": {},
   "outputs": [
    {
     "data": {
      "text/plain": [
       "100"
      ]
     },
     "execution_count": 112,
     "metadata": {},
     "output_type": "execute_result"
    }
   ],
   "source": [
    "c.overdraft"
   ]
  },
  {
   "cell_type": "code",
   "execution_count": 113,
   "id": "795f7469",
   "metadata": {},
   "outputs": [
    {
     "name": "stdout",
     "output_type": "stream",
     "text": [
      "Invalid value to withdraw: 200\n"
     ]
    }
   ],
   "source": [
    "c.withdraw(200)"
   ]
  },
  {
   "cell_type": "markdown",
   "id": "16e1871d",
   "metadata": {},
   "source": [
    "## List of Accounts"
   ]
  },
  {
   "cell_type": "code",
   "execution_count": 104,
   "id": "d0da7bad",
   "metadata": {},
   "outputs": [],
   "source": [
    "accounts = []\n",
    "# let's add some accounts\n",
    "accounts.append(SavingsAccount(\"1000\", 1000))\n",
    "accounts.append(SavingsAccount(\"1001\", 5000))\n",
    "accounts.append(CurrentAccount(\"2000\", 10000, 1000))\n",
    "accounts.append(CurrentAccount(\"2001\", 500))\n",
    "accounts.append(SavingsAccount(\"1002\", 10, 0.1))\n",
    "accounts.append(SavingsAccount(\"1003\", 100000, 0.05))\n",
    "accounts.append(CurrentAccount(\"2002\", 10, 0.0))\n",
    "accounts.append(CurrentAccount(\"2003\", 50, 100))\n",
    "accounts.append(CurrentAccount(\"2004\", 5))\n",
    "accounts.append(CurrentAccount(\"2005\", 1000, 10))\n",
    "accounts.append(CurrentAccount(\"2006\", 500, 1000))"
   ]
  },
  {
   "cell_type": "code",
   "execution_count": 105,
   "id": "4c175217",
   "metadata": {},
   "outputs": [
    {
     "name": "stdout",
     "output_type": "stream",
     "text": [
      "Account 2003 : overdraft = 100 , balance =  50\n",
      "Account 2004 : overdraft = 100 , balance =  5\n",
      "Account 2006 : overdraft = 1000 , balance =  500\n"
     ]
    }
   ],
   "source": [
    "for account in accounts:\n",
    "    if isinstance(account, CurrentAccount):\n",
    "        if account.overdraft > account.balance:\n",
    "            print(\"Account\", account.account_number, \": overdraft =\", account.overdraft, \", balance = \", account.balance)"
   ]
  }
 ],
 "metadata": {
  "kernelspec": {
   "display_name": "Python 3 (ipykernel)",
   "language": "python",
   "name": "python3"
  },
  "language_info": {
   "codemirror_mode": {
    "name": "ipython",
    "version": 3
   },
   "file_extension": ".py",
   "mimetype": "text/x-python",
   "name": "python",
   "nbconvert_exporter": "python",
   "pygments_lexer": "ipython3",
   "version": "3.8.10"
  }
 },
 "nbformat": 4,
 "nbformat_minor": 5
}
