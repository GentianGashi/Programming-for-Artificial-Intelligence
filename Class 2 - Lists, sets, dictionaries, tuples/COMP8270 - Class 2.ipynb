{
 "cells": [
  {
   "cell_type": "markdown",
   "id": "d1c940cb",
   "metadata": {},
   "source": [
    "# COMP8270 - Class 2"
   ]
  },
  {
   "cell_type": "markdown",
   "id": "c626b688",
   "metadata": {},
   "source": [
    "## Task 1"
   ]
  },
  {
   "cell_type": "code",
   "execution_count": 1,
   "id": "9e94538f",
   "metadata": {},
   "outputs": [
    {
     "name": "stdout",
     "output_type": "stream",
     "text": [
      "[0, 10, 20, 30, 40, 50, 60, 70, 80, 90]\n"
     ]
    }
   ],
   "source": [
    "divisible = []\n",
    "\n",
    "for number in range(100):\n",
    "    if (number % 2) == 0 and (number % 5) == 0:\n",
    "        divisible.append(number)\n",
    "        \n",
    "print(divisible)"
   ]
  },
  {
   "cell_type": "markdown",
   "id": "31fc272d",
   "metadata": {},
   "source": [
    "## Task 2"
   ]
  },
  {
   "cell_type": "code",
   "execution_count": 4,
   "id": "bf239a7f",
   "metadata": {},
   "outputs": [
    {
     "name": "stdout",
     "output_type": "stream",
     "text": [
      "['Kirsten']\n"
     ]
    }
   ],
   "source": [
    "names = [\"Jim\", \"Hetty\", \"Kirsten\", \"Theo\", \"Henry\", \"Paul\"]\n",
    "letter = \"K\"\n",
    "filtered = []\n",
    "\n",
    "for name in names:\n",
    "    if name[0] == letter:\n",
    "        filtered.append(name)\n",
    "\n",
    "print(filtered)"
   ]
  },
  {
   "cell_type": "markdown",
   "id": "a98f188d",
   "metadata": {},
   "source": [
    "## Task 3"
   ]
  },
  {
   "cell_type": "code",
   "execution_count": 7,
   "id": "069380d7",
   "metadata": {},
   "outputs": [
    {
     "name": "stdout",
     "output_type": "stream",
     "text": [
      "{'J': ['Jim'], 'H': ['Hetty', 'Henry'], 'K': ['Kirsten'], 'T': ['Theo'], 'P': ['Paul']}\n"
     ]
    }
   ],
   "source": [
    "names = [\"Jim\", \"Hetty\", \"Kirsten\", \"Theo\", \"Henry\", \"Paul\"]\n",
    "grouped = {}\n",
    "\n",
    "for name in names:\n",
    "    letter = name[0]\n",
    "    group = []\n",
    "    \n",
    "    for name in names:\n",
    "        if name[0] == letter:\n",
    "            group.append(name)\n",
    "    \n",
    "    grouped[letter] = group\n",
    "    \n",
    "print(grouped)"
   ]
  },
  {
   "cell_type": "markdown",
   "id": "f4d6d7d7",
   "metadata": {},
   "source": [
    "## Task 4"
   ]
  },
  {
   "cell_type": "code",
   "execution_count": 8,
   "id": "3a5ac07f",
   "metadata": {},
   "outputs": [
    {
     "name": "stdout",
     "output_type": "stream",
     "text": [
      "44\n"
     ]
    }
   ],
   "source": [
    "values1 = [4, 6, 2, 9, 10, 11, 24, 50, 33]\n",
    "values2 = [3, 5, 24, 12, 13, 4, 20, 10, 6]\n",
    "total = 0\n",
    "\n",
    "for v1 in values1:\n",
    "    for v2 in values2:\n",
    "        if v1 == v2:\n",
    "            total += v1\n",
    "            \n",
    "print(total)"
   ]
  },
  {
   "cell_type": "markdown",
   "id": "a493f778",
   "metadata": {},
   "source": [
    "## Task 5"
   ]
  },
  {
   "cell_type": "code",
   "execution_count": 10,
   "id": "a0921ebd",
   "metadata": {},
   "outputs": [
    {
     "name": "stdout",
     "output_type": "stream",
     "text": [
      "{'apple': 'computer', 'macbook pro': 'model', 'M1 Pro': 'processor', 2021: 'year'}\n"
     ]
    }
   ],
   "source": [
    "my_dict = {\"computer\" : \"apple\", \"model\" : \"macbook pro\", \"processor\" : \"M1 Pro\", \"year\" : 2021}\n",
    "inverted_dict = {}\n",
    "\n",
    "for k, v in my_dict.items():\n",
    "    inverted_dict[v] = k\n",
    "\n",
    "print(inverted_dict)"
   ]
  },
  {
   "cell_type": "markdown",
   "id": "62b57751",
   "metadata": {},
   "source": [
    "## Task 6"
   ]
  },
  {
   "cell_type": "code",
   "execution_count": 11,
   "id": "b118ac63",
   "metadata": {},
   "outputs": [
    {
     "name": "stdout",
     "output_type": "stream",
     "text": [
      "14\n"
     ]
    }
   ],
   "source": [
    "values_list = [4, 12, 2, 9, 10, 11, 5, 9, 33]\n",
    "total = 0\n",
    "\n",
    "for index, v in enumerate(values_list):\n",
    "    if v > 10:\n",
    "        total += index\n",
    "\n",
    "print(total)"
   ]
  },
  {
   "cell_type": "code",
   "execution_count": null,
   "id": "e11b25e9",
   "metadata": {},
   "outputs": [],
   "source": []
  }
 ],
 "metadata": {
  "kernelspec": {
   "display_name": "Python 3 (ipykernel)",
   "language": "python",
   "name": "python3"
  },
  "language_info": {
   "codemirror_mode": {
    "name": "ipython",
    "version": 3
   },
   "file_extension": ".py",
   "mimetype": "text/x-python",
   "name": "python",
   "nbconvert_exporter": "python",
   "pygments_lexer": "ipython3",
   "version": "3.8.10"
  }
 },
 "nbformat": 4,
 "nbformat_minor": 5
}
