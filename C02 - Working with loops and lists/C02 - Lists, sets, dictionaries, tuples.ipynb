{
 "cells": [
  {
   "cell_type": "markdown",
   "id": "3461249e",
   "metadata": {},
   "source": [
    "## PART 1 : Introduction to Programming Artificial Intelligence Class 2\n",
    "\n",
    "Assessment"
   ]
  },
  {
   "cell_type": "markdown",
   "id": "39d982ce",
   "metadata": {},
   "source": [
    "### Exercise 1\n",
    "\n",
    "Write a Python code that creates a list of numbers between 1 and 100 that are divisible\n",
    "by 2 and 5. Remember to use the range() function and the module division (%)."
   ]
  },
  {
   "cell_type": "code",
   "execution_count": 39,
   "id": "ba62fffc",
   "metadata": {},
   "outputs": [
    {
     "name": "stdout",
     "output_type": "stream",
     "text": [
      "['10', '20', '30', '40', '50', '60', '70', '80', '90', '100']\n"
     ]
    }
   ],
   "source": [
    "divisible = []\n",
    "\n",
    "for x in range(1, 101):\n",
    "    if (x%2==0) and (x%5==0):\n",
    "        divisible.append(str(x))\n",
    "        \n",
    "print(divisible) # this line will print the list"
   ]
  },
  {
   "cell_type": "markdown",
   "id": "0b2889e7",
   "metadata": {},
   "source": [
    "### Exercise 2\n",
    "Given the following list of strings, write a Python code to create a list that includes\n",
    "names that start with a specific letter (e.g., letter 'H')."
   ]
  },
  {
   "cell_type": "code",
   "execution_count": 16,
   "id": "47ce37b8",
   "metadata": {},
   "outputs": [
    {
     "name": "stdout",
     "output_type": "stream",
     "text": [
      "['Hetty', 'Henry']\n"
     ]
    }
   ],
   "source": [
    "names = [\"Jim\", \"Hetty\", \"Kirsten\", \"Theo\", \"Henry\", \"Paul\"]\n",
    "letter = \"H\"\n",
    "filtered = []\n",
    "\n",
    "filtered = [x for x in names if x.startswith(letter)]\n",
    "\n",
    "print(filtered) # this line will print the list"
   ]
  },
  {
   "cell_type": "markdown",
   "id": "e85433bc",
   "metadata": {},
   "source": [
    "### Exercise 3 \n",
    "* Write a Python code that, given a list of names, creates a dictionary where each\n",
    "name is grouped by the first letter. Your code should work for any list of names – e.g"
   ]
  },
  {
   "cell_type": "code",
   "execution_count": 5,
   "id": "d1d39712",
   "metadata": {},
   "outputs": [
    {
     "name": "stdout",
     "output_type": "stream",
     "text": [
      "{'J': ['Jim'], 'H': ['Hetty', 'Henry'], 'K': ['Kirsten'], 'T': ['Theo'], 'P': ['Paul']}\n"
     ]
    }
   ],
   "source": [
    "names = [\"Jim\", \"Hetty\", \"Kirsten\", \"Theo\", \"Henry\", \"Paul\"]\n",
    "grouped = {}\n",
    "\n",
    "for word in names:\n",
    "    grouped.setdefault(word[0],[]).append(word)\n",
    "    \n",
    "print(grouped)"
   ]
  },
  {
   "cell_type": "markdown",
   "id": "332a7314",
   "metadata": {},
   "source": [
    "### Exercise 4\n",
    "Given 2 lists of numbers, write a Python code that returns the sum of the values that\n",
    "occur is both lists:"
   ]
  },
  {
   "cell_type": "code",
   "execution_count": 66,
   "id": "e1c95960",
   "metadata": {},
   "outputs": [
    {
     "name": "stdout",
     "output_type": "stream",
     "text": [
      "44\n"
     ]
    }
   ],
   "source": [
    "values1 = [4, 6, 2, 9, 10, 11, 24, 50, 33]\n",
    "values2 = [3, 5, 24, 12, 13, 4, 20, 10, 6]\n",
    "total = 0\n",
    "\n",
    "for val1 in values1:\n",
    "    for  val2 in values2:\n",
    "        if val1 == val2:\n",
    "            total += val1\n",
    "\n",
    "print(total)"
   ]
  },
  {
   "cell_type": "markdown",
   "id": "de39bcd4",
   "metadata": {},
   "source": [
    "### Exercise 5\n",
    "Given a dictionary, write a Python code that create a new dictionary where the keys are\n",
    "used as values and the values are used as keys – e.g.: \"computer\" à \"apple\" becomes\n",
    "\"apple\" à \"computer\" in the new dictionary. Your solution must work with any\n",
    "dictionary."
   ]
  },
  {
   "cell_type": "code",
   "execution_count": 23,
   "id": "235b9aef",
   "metadata": {},
   "outputs": [
    {
     "name": "stdout",
     "output_type": "stream",
     "text": [
      "{'apple': 'computer', 'macbook pro': 'model', 'M1 Pro': 'processor', 2021: 'year'}\n"
     ]
    }
   ],
   "source": [
    "my_dict = {\"computer\" : \"apple\", \"model\" : \"macbook pro\", \"processor\" : \"M1 Pro\", \"year\" : 2021}\n",
    "inverted_dict = {}\n",
    "\n",
    "inverted_dict ={v: k for k, v in my_dict.items()}\n",
    "\n",
    "print(inverted_dict)"
   ]
  },
  {
   "cell_type": "markdown",
   "id": "033da764",
   "metadata": {},
   "source": [
    "### Exercise 6\n",
    "Write a Python code that returns the sum of the indexes of the values of a list that are\n",
    "greater than 10."
   ]
  },
  {
   "cell_type": "code",
   "execution_count": 65,
   "id": "348d4859",
   "metadata": {},
   "outputs": [
    {
     "name": "stdout",
     "output_type": "stream",
     "text": [
      "14\n"
     ]
    }
   ],
   "source": [
    "values_list = [4, 12, 2, 9, 10, 11, 5, 9, 33]\n",
    "total = 0\n",
    " \n",
    "for index, number in enumerate(values_list):\n",
    "    if number>10:\n",
    "        total += index\n",
    "\n",
    "print(total)"
   ]
  }
 ],
 "metadata": {
  "kernelspec": {
   "display_name": "Python 3 (ipykernel)",
   "language": "python",
   "name": "python3"
  },
  "language_info": {
   "codemirror_mode": {
    "name": "ipython",
    "version": 3
   },
   "file_extension": ".py",
   "mimetype": "text/x-python",
   "name": "python",
   "nbconvert_exporter": "python",
   "pygments_lexer": "ipython3",
   "version": "3.8.10"
  }
 },
 "nbformat": 4,
 "nbformat_minor": 5
}
