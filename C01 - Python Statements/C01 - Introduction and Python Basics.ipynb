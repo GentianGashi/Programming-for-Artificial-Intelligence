{
 "cells": [
  {
   "cell_type": "markdown",
   "id": "3461249e",
   "metadata": {},
   "source": [
    "## PART 1 : Introduction to Programming Artificial Intelligence Class 1\n",
    "\n",
    "Summary:\n",
    "- 1.1 Fibonacci Sequence\n",
    "- 1.2 Multiplication\n",
    "- 1.3 Control Flow\n",
    "- 1.4 Operators\n",
    "- 1.5 Type Casting\n",
    "- 1.6 Latex\n",
    "- 1.7 Directory\n",
    "- 1.8 Graphs"
   ]
  },
  {
   "cell_type": "markdown",
   "id": "39d982ce",
   "metadata": {},
   "source": [
    "### 1.1 Fibonacci Sequence"
   ]
  },
  {
   "cell_type": "code",
   "execution_count": 2,
   "id": "ba62fffc",
   "metadata": {},
   "outputs": [
    {
     "name": "stdout",
     "output_type": "stream",
     "text": [
      "0\n",
      "1\n",
      "1\n",
      "2\n",
      "3\n",
      "5\n",
      "8\n",
      "13\n",
      "21\n"
     ]
    }
   ],
   "source": [
    "n1=0\n",
    "n2=1\n",
    "\n",
    "print(n1)\n",
    "\n",
    "while n2<22:\n",
    "    print(n2)\n",
    "    n3=n1+n2\n",
    "    n1=n2\n",
    "    n2=n3"
   ]
  },
  {
   "cell_type": "markdown",
   "id": "0b2889e7",
   "metadata": {},
   "source": [
    "### 1.2 Multiplication"
   ]
  },
  {
   "cell_type": "code",
   "execution_count": 21,
   "id": "47ce37b8",
   "metadata": {},
   "outputs": [
    {
     "name": "stdout",
     "output_type": "stream",
     "text": [
      "6  x  1 = 6\n",
      "6  x  2 = 12\n",
      "6  x  3 = 18\n",
      "6  x  4 = 24\n",
      "6  x  5 = 30\n",
      "6  x  6 = 36\n",
      "6  x  7 = 42\n",
      "6  x  8 = 48\n",
      "6  x  9 = 54\n",
      "6  x  10 = 60\n"
     ]
    }
   ],
   "source": [
    "number=6\n",
    "for index in range(1,11):\n",
    "    multiplcation=(number*index)\n",
    "    print(number,\" x \", index,\"=\",multiplcation)"
   ]
  },
  {
   "cell_type": "markdown",
   "id": "e85433bc",
   "metadata": {},
   "source": [
    "### 1.3 Control Flow"
   ]
  },
  {
   "cell_type": "code",
   "execution_count": 26,
   "id": "d1d39712",
   "metadata": {},
   "outputs": [
    {
     "name": "stdout",
     "output_type": "stream",
     "text": [
      "Equal to zero\n"
     ]
    }
   ],
   "source": [
    "x=0\n",
    "if x < 0:\n",
    "    print(\"It's negative\")\n",
    "elif x == 0:\n",
    "    print(\"Equal to zero\")\n",
    "else:\n",
    "    print(\"It's positive\")"
   ]
  },
  {
   "cell_type": "code",
   "execution_count": 27,
   "id": "86c8688c",
   "metadata": {},
   "outputs": [
    {
     "name": "stdout",
     "output_type": "stream",
     "text": [
      "1\n",
      "2\n",
      "3\n"
     ]
    }
   ],
   "source": [
    "sequence = [1,2,3]\n",
    "for value in sequence:\n",
    "    print(value)"
   ]
  },
  {
   "cell_type": "code",
   "execution_count": 28,
   "id": "fe3f71e4",
   "metadata": {},
   "outputs": [
    {
     "name": "stdout",
     "output_type": "stream",
     "text": [
      "Iteration # 0\n",
      "Iteration # 1\n",
      "Iteration # 2\n",
      "Iteration # 3\n",
      "Iteration # 4\n",
      "Iteration # 5\n",
      "Outside for loop\n"
     ]
    }
   ],
   "source": [
    "for i in range(6):\n",
    "    print(\"Iteration #\", i)\n",
    "print(\"Outside for loop\")"
   ]
  },
  {
   "cell_type": "code",
   "execution_count": 29,
   "id": "a7900e09",
   "metadata": {},
   "outputs": [
    {
     "name": "stdout",
     "output_type": "stream",
     "text": [
      "1\n"
     ]
    }
   ],
   "source": [
    "sequence = [1,2,3]\n",
    "for value in sequence:\n",
    "    if value == 2:\n",
    "        break\n",
    "    print(value)"
   ]
  },
  {
   "cell_type": "code",
   "execution_count": 33,
   "id": "1bdd22b4",
   "metadata": {},
   "outputs": [
    {
     "name": "stdout",
     "output_type": "stream",
     "text": [
      "4\n"
     ]
    }
   ],
   "source": [
    "x = 256\n",
    "total = 0\n",
    "while x > 0:\n",
    "    if total > 500:\n",
    "        break\n",
    "    total += x\n",
    "    x = x // 2\n",
    "print(x)"
   ]
  },
  {
   "cell_type": "markdown",
   "id": "332a7314",
   "metadata": {},
   "source": [
    "### 1.4 Operators"
   ]
  },
  {
   "cell_type": "code",
   "execution_count": 34,
   "id": "e1c95960",
   "metadata": {},
   "outputs": [
    {
     "name": "stdout",
     "output_type": "stream",
     "text": [
      "negative\n"
     ]
    }
   ],
   "source": [
    "x = -5\n",
    "print('negative' if x < 0 else 'positive')"
   ]
  },
  {
   "cell_type": "markdown",
   "id": "de39bcd4",
   "metadata": {},
   "source": [
    "### 1.5 Type Casting Functions"
   ]
  },
  {
   "cell_type": "code",
   "execution_count": 22,
   "id": "235b9aef",
   "metadata": {},
   "outputs": [
    {
     "name": "stdout",
     "output_type": "stream",
     "text": [
      "3.1459\n"
     ]
    },
    {
     "data": {
      "text/plain": [
       "True"
      ]
     },
     "execution_count": 22,
     "metadata": {},
     "output_type": "execute_result"
    }
   ],
   "source": [
    "s = '3.1459'\n",
    "fval = float(s)\n",
    "print(fval)\n",
    "int(float(fval))\n",
    "bool(fval)"
   ]
  },
  {
   "cell_type": "markdown",
   "id": "033da764",
   "metadata": {},
   "source": [
    "### 1.6 Latex"
   ]
  },
  {
   "cell_type": "markdown",
   "id": "e9427b7f",
   "metadata": {},
   "source": [
    "My Favourite Equation:\n",
    "\n",
    "$$Vm = \\frac{\\bar{g}_{e}g_{e}E_{e}+\\bar{g}_{i}g_{i}E_{i}+\\bar{g}_{l}g_{l}E_{l}}{\\bar{g}_{e}g_{e}+\\bar{g}_{i}g_{i}+\\bar{g}_{l}g_{l}}$$"
   ]
  },
  {
   "cell_type": "markdown",
   "id": "045c7334",
   "metadata": {},
   "source": [
    "### 1.7 Directory"
   ]
  },
  {
   "cell_type": "code",
   "execution_count": 37,
   "id": "6d51265c",
   "metadata": {},
   "outputs": [
    {
     "name": "stdout",
     "output_type": "stream",
     "text": [
      "/home/arc/gg363\r\n"
     ]
    }
   ],
   "source": [
    "!pwd"
   ]
  },
  {
   "cell_type": "code",
   "execution_count": 41,
   "id": "d69dc7b4",
   "metadata": {},
   "outputs": [
    {
     "name": "stdout",
     "output_type": "stream",
     "text": [
      "['Class 1.ipynb', 'jupyter']\n"
     ]
    }
   ],
   "source": [
    "files = !ls\n",
    "print(files)"
   ]
  },
  {
   "cell_type": "code",
   "execution_count": 42,
   "id": "1c2f5682",
   "metadata": {},
   "outputs": [
    {
     "name": "stdout",
     "output_type": "stream",
     "text": [
      "CLASS 1.IPYNB\r\n"
     ]
    }
   ],
   "source": [
    "!echo {files[0].upper()}"
   ]
  },
  {
   "cell_type": "markdown",
   "id": "ef9432a7",
   "metadata": {},
   "source": [
    "### 1.8 Graphs"
   ]
  },
  {
   "cell_type": "code",
   "execution_count": 38,
   "id": "5de7964e",
   "metadata": {},
   "outputs": [
    {
     "data": {
      "text/plain": [
       "[<matplotlib.lines.Line2D at 0x7f1ec74dbb20>]"
      ]
     },
     "execution_count": 38,
     "metadata": {},
     "output_type": "execute_result"
    },
    {
     "data": {
      "image/png": "[encoded data removed]",
      "text/plain": [
       "<Figure size 432x288 with 1 Axes>"
      ]
     },
     "metadata": {
      "needs_background": "light"
     },
     "output_type": "display_data"
    }
   ],
   "source": [
    "import matplotlib.pyplot as plt\n",
    "plt.plot([1,1.6,3])"
   ]
  },
  {
   "cell_type": "code",
   "execution_count": 53,
   "id": "002ac58e",
   "metadata": {},
   "outputs": [
    {
     "data": {
      "text/html": [
       "<img src=\"https://www.dataquest.io/wp-content/uploads/2019/01/1-LPnY8nOLg4S6_TG0DEXwsg-1.png\" width=\"400\" height=\"400\"/>"
      ],
      "text/plain": [
       "<IPython.core.display.Image object>"
      ]
     },
     "execution_count": 53,
     "metadata": {},
     "output_type": "execute_result"
    }
   ],
   "source": [
    "from IPython.display import Image\n",
    "Image(url= \"https://www.dataquest.io/wp-content/uploads/2019/01/1-LPnY8nOLg4S6_TG0DEXwsg-1.png\", width=400, height=400)"
   ]
  }
 ],
 "metadata": {
  "kernelspec": {
   "display_name": "Python 3 (ipykernel)",
   "language": "python",
   "name": "python3"
  },
  "language_info": {
   "codemirror_mode": {
    "name": "ipython",
    "version": 3
   },
   "file_extension": ".py",
   "mimetype": "text/x-python",
   "name": "python",
   "nbconvert_exporter": "python",
   "pygments_lexer": "ipython3",
   "version": "3.8.10"
  }
 },
 "nbformat": 4,
 "nbformat_minor": 5
}
