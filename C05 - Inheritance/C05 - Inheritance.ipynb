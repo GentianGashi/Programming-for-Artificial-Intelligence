{
 "cells": [
  {
   "cell_type": "markdown",
   "id": "3461249e",
   "metadata": {},
   "source": [
    "# Introduction to Programming Artificial Intelligence \n",
    "\n",
    "## Class 5 - Classes"
   ]
  },
  {
   "cell_type": "markdown",
   "id": "39d982ce",
   "metadata": {},
   "source": [
    "### Exercise 1\n",
    "\n",
    "Create a class named Account with account_number and balance as instance attributes. Add a constructor that expects values for both attributes."
   ]
  },
  {
   "cell_type": "code",
   "execution_count": 1,
   "id": "ba62fffc",
   "metadata": {},
   "outputs": [
    {
     "name": "stdout",
     "output_type": "stream",
     "text": [
      "100\n"
     ]
    }
   ],
   "source": [
    "class Account:\n",
    "    account_number = None\n",
    "    Balance = 0\n",
    "\n",
    "    def __init__ (self, account_number, Balance):\n",
    "        self.account_number = account_number # Per instance\n",
    "        self.Balance = Balance # Per instance\n",
    "\n",
    "MyAcct = Account (1234, 100)\n",
    "print(MyAcct.Balance)"
   ]
  },
  {
   "cell_type": "markdown",
   "id": "0b2889e7",
   "metadata": {},
   "source": [
    "### Exercise 2\n",
    "Add a method to the class Account named deposit that increases the account balance by a specified amount. The deposit should only operate with values greater than 0."
   ]
  },
  {
   "cell_type": "code",
   "execution_count": 2,
   "id": "47ce37b8",
   "metadata": {},
   "outputs": [
    {
     "name": "stdout",
     "output_type": "stream",
     "text": [
      "100\n",
      "200\n"
     ]
    }
   ],
   "source": [
    "class Account:\n",
    "    account_number = None\n",
    "    Balance = 0\n",
    "\n",
    "    def __init__ (self, account_number, Balance):\n",
    "        self.account_number = account_number # Per instance\n",
    "        self.Balance = Balance # Per instance\n",
    "        \n",
    "    def Deposit(self, value):\n",
    "        if value > 0:\n",
    "            self.Balance += value\n",
    "        else:\n",
    "            print(\"Invalid value to deposit:\", value)\n",
    "\n",
    "MyAcct = Account (1234, 100)\n",
    "print(MyAcct.Balance)\n",
    "MyAcct.Deposit(100)\n",
    "print(MyAcct.Balance)"
   ]
  },
  {
   "cell_type": "markdown",
   "id": "e85433bc",
   "metadata": {},
   "source": [
    "### Exercise 3 \n",
    "Add a method to the class Account named withdraw that decreases the account balance by a specified amount. The withdraw should only operate with values greater than 0 and smaller than the current balance of the account.\n"
   ]
  },
  {
   "cell_type": "code",
   "execution_count": 3,
   "id": "d1d39712",
   "metadata": {},
   "outputs": [
    {
     "name": "stdout",
     "output_type": "stream",
     "text": [
      "100\n",
      "200\n",
      "150\n"
     ]
    }
   ],
   "source": [
    "class Account:\n",
    "    account_number = None\n",
    "    Balance = 0\n",
    "\n",
    "    def __init__ (self, account_number, Balance):\n",
    "        self.account_number = account_number # Per instance\n",
    "        self.Balance = Balance # Per instance\n",
    "        \n",
    "    def Deposit(self, value):\n",
    "        if value > 0:\n",
    "            self.Balance += value\n",
    "        else:\n",
    "            print(\"Invalid value to deposit:\", value)\n",
    "    \n",
    "    def Withdraw(self, value):\n",
    "        if value > 0 and value <= self.Balance:\n",
    "            self.Balance -= value\n",
    "        else:\n",
    "            print(\"Invalid value to withdraw:\", value)\n",
    "\n",
    "\n",
    "MyAcct = Account (1234, 100)\n",
    "print(MyAcct.Balance)\n",
    "MyAcct.Deposit(100)\n",
    "print(MyAcct.Balance)\n",
    "MyAcct.Withdraw(50)\n",
    "print(MyAcct.Balance)"
   ]
  },
  {
   "cell_type": "markdown",
   "id": "332a7314",
   "metadata": {},
   "source": [
    "### Exercise 4\n",
    "Modify your Account class so that both account_number and balance appear as \"private\" attributes. Define getter methods for each attribute."
   ]
  },
  {
   "cell_type": "code",
   "execution_count": 4,
   "id": "e1c95960",
   "metadata": {},
   "outputs": [
    {
     "name": "stdout",
     "output_type": "stream",
     "text": [
      "100\n",
      "200\n",
      "150\n"
     ]
    }
   ],
   "source": [
    "class Account:\n",
    "\n",
    "    def __init__ (self, account_number, balance):\n",
    "        self._account_number = account_number\n",
    "        self._balance = balance\n",
    "        \n",
    "    def Deposit(self, value):\n",
    "        if value > 0:\n",
    "            self._balance += value\n",
    "        else:\n",
    "            print(\"Invalid value to deposit:\", value)\n",
    "    \n",
    "    def Withdraw(self, value):\n",
    "        if value > 0 and value <= self._balance:\n",
    "            self._balance -= value\n",
    "        else:\n",
    "            print(\"Invalid value to withdraw:\", value)\n",
    "            \n",
    "            \n",
    "    @property\n",
    "    def account_number(self):\n",
    "        return self._account_number\n",
    "    \n",
    "    @property\n",
    "    def Balance(self):\n",
    "        return self._balance\n",
    "\n",
    "MyAcct = Account (1234, 100)\n",
    "print(MyAcct.Balance)\n",
    "MyAcct.Deposit(100)\n",
    "print(MyAcct.Balance)\n",
    "MyAcct.Withdraw(50)\n",
    "print(MyAcct.Balance)"
   ]
  },
  {
   "cell_type": "markdown",
   "id": "de39bcd4",
   "metadata": {},
   "source": [
    "### Exercise 5\n",
    "Create a subclass of Account named SavingsAccount with an interest instance attribute. The initial value of interest should be specified in the constructor of the class – if no value is specified, it should use 0.02 (2%) as a default value. Make sure that the constructor is calling the super class constructor."
   ]
  },
  {
   "cell_type": "code",
   "execution_count": 5,
   "id": "235b9aef",
   "metadata": {},
   "outputs": [
    {
     "name": "stdout",
     "output_type": "stream",
     "text": [
      "0.02\n"
     ]
    }
   ],
   "source": [
    "class SavingsAccount(Account):\n",
    "    \n",
    "    def __init__(self, account_number, balance, interest=0.02):\n",
    "        super().__init__(account_number, balance)\n",
    "        self._interest = interest\n",
    "        \n",
    "    def annual_interest(self):\n",
    "        return self.balance * self._interest\n",
    "    \n",
    "    @property\n",
    "    def interest(self):\n",
    "        return self._interest\n",
    "        \n",
    "Savings = SavingsAccount(\"1000\", 1000)\n",
    "print(Savings.interest)"
   ]
  },
  {
   "cell_type": "markdown",
   "id": "033da764",
   "metadata": {},
   "source": [
    "### Exercise 6\n",
    "Create a subclass of Account named CurrentAccount with an overdraft instance attribute. The initial value of overdraft should be specified in the constructor of the class – if no value is specified, it should use £100 as a default value. Make sure that the constructor is calling the super class constructor."
   ]
  },
  {
   "cell_type": "code",
   "execution_count": 6,
   "id": "4c1fe05e",
   "metadata": {},
   "outputs": [
    {
     "name": "stdout",
     "output_type": "stream",
     "text": [
      "100\n"
     ]
    }
   ],
   "source": [
    "class CurrentAccount(Account):\n",
    "    def __init__(self, account_number, balance, overdraft=100):\n",
    "        super().__init__(account_number, balance)\n",
    "        self._overdraft = overdraft\n",
    "        \n",
    "    def withdraw(self, value):\n",
    "        if value > 0 and value <= (self._balance + self._overdraft):\n",
    "            self._balance -= value\n",
    "        else:\n",
    "            print(\"Invalid value to withdraw:\", value)\n",
    "            \n",
    "    @property\n",
    "    def overdraft(self):\n",
    "        return self._overdraft\n",
    "        \n",
    "Current = CurrentAccount(\"2001\", 500)\n",
    "print(Current.overdraft)"
   ]
  },
  {
   "cell_type": "markdown",
   "id": "f25b174f",
   "metadata": {},
   "source": [
    "### Exercise 7\n",
    "Provide a specialised implementation (method overriding) for the withdraw method in the CurrentAccount class, which allows withdraws up to the limit of the overdraft – i.e., the account balance can be negative up to overdraft value."
   ]
  },
  {
   "cell_type": "code",
   "execution_count": 7,
   "id": "5547b6c3",
   "metadata": {},
   "outputs": [
    {
     "name": "stdout",
     "output_type": "stream",
     "text": [
      "100\n",
      "100\n",
      "100\n"
     ]
    }
   ],
   "source": [
    "class CurrentAccount(Account):\n",
    "    \n",
    "    def __init__(self, account_number, balance, overdraft=100):\n",
    "        super().__init__(account_number, balance)\n",
    "        self._overdraft = overdraft\n",
    "        \n",
    "    def withdraw(self, value):\n",
    "        if value > 0 and value <= (self._balance + self._overdraft):\n",
    "            self._balance -= value\n",
    "        else:\n",
    "            print(\"Invalid value to withdraw:\", value)\n",
    "            \n",
    "    @property\n",
    "    def overdraft(self):\n",
    "        return self._overdraft\n",
    "        \n",
    "Current = CurrentAccount(\"2001\", 200)\n",
    "print(Current.overdraft)\n",
    "Current.withdraw(60)\n",
    "\n",
    "print(Current.overdraft)\n",
    "Current.withdraw(200)\n",
    "\n",
    "print(Current.overdraft)"
   ]
  },
  {
   "cell_type": "markdown",
   "id": "fdc590e9",
   "metadata": {},
   "source": [
    "### Exercise 8\n",
    "Add a method to the class SavingsAccount named annual_interest that returns the estimated annual interest income of the account – e.g., if the balance of the account is £100 and the interest is 2%, the method would return 2."
   ]
  },
  {
   "cell_type": "code",
   "execution_count": 8,
   "id": "875a2121",
   "metadata": {},
   "outputs": [
    {
     "name": "stdout",
     "output_type": "stream",
     "text": [
      "0.02\n"
     ]
    },
    {
     "ename": "AttributeError",
     "evalue": "'SavingsAccount' object has no attribute 'balance'",
     "output_type": "error",
     "traceback": [
      "\u001b[0;31m---------------------------------------------------------------------------\u001b[0m",
      "\u001b[0;31mAttributeError\u001b[0m                            Traceback (most recent call last)",
      "\u001b[0;32m/tmp/ipykernel_1194492/2466239282.py\u001b[0m in \u001b[0;36m<module>\u001b[0;34m\u001b[0m\n\u001b[1;32m     14\u001b[0m \u001b[0mSavings\u001b[0m \u001b[0;34m=\u001b[0m \u001b[0mSavingsAccount\u001b[0m\u001b[0;34m(\u001b[0m\u001b[0;34m\"1000\"\u001b[0m\u001b[0;34m,\u001b[0m \u001b[0;36m1000\u001b[0m\u001b[0;34m)\u001b[0m\u001b[0;34m\u001b[0m\u001b[0;34m\u001b[0m\u001b[0m\n\u001b[1;32m     15\u001b[0m \u001b[0mprint\u001b[0m\u001b[0;34m(\u001b[0m\u001b[0mSavings\u001b[0m\u001b[0;34m.\u001b[0m\u001b[0minterest\u001b[0m\u001b[0;34m)\u001b[0m\u001b[0;34m\u001b[0m\u001b[0;34m\u001b[0m\u001b[0m\n\u001b[0;32m---> 16\u001b[0;31m \u001b[0mprint\u001b[0m\u001b[0;34m(\u001b[0m\u001b[0mSavings\u001b[0m\u001b[0;34m.\u001b[0m\u001b[0mannual_interest\u001b[0m\u001b[0;34m(\u001b[0m\u001b[0;34m)\u001b[0m\u001b[0;34m)\u001b[0m\u001b[0;34m\u001b[0m\u001b[0;34m\u001b[0m\u001b[0m\n\u001b[0m",
      "\u001b[0;32m/tmp/ipykernel_1194492/2466239282.py\u001b[0m in \u001b[0;36mannual_interest\u001b[0;34m(self)\u001b[0m\n\u001b[1;32m      6\u001b[0m \u001b[0;34m\u001b[0m\u001b[0m\n\u001b[1;32m      7\u001b[0m     \u001b[0;32mdef\u001b[0m \u001b[0mannual_interest\u001b[0m\u001b[0;34m(\u001b[0m\u001b[0mself\u001b[0m\u001b[0;34m)\u001b[0m\u001b[0;34m:\u001b[0m\u001b[0;34m\u001b[0m\u001b[0;34m\u001b[0m\u001b[0m\n\u001b[0;32m----> 8\u001b[0;31m         \u001b[0;32mreturn\u001b[0m \u001b[0mself\u001b[0m\u001b[0;34m.\u001b[0m\u001b[0mbalance\u001b[0m \u001b[0;34m*\u001b[0m \u001b[0mself\u001b[0m\u001b[0;34m.\u001b[0m\u001b[0m_interest\u001b[0m\u001b[0;34m\u001b[0m\u001b[0;34m\u001b[0m\u001b[0m\n\u001b[0m\u001b[1;32m      9\u001b[0m \u001b[0;34m\u001b[0m\u001b[0m\n\u001b[1;32m     10\u001b[0m     \u001b[0;34m@\u001b[0m\u001b[0mproperty\u001b[0m\u001b[0;34m\u001b[0m\u001b[0;34m\u001b[0m\u001b[0m\n",
      "\u001b[0;31mAttributeError\u001b[0m: 'SavingsAccount' object has no attribute 'balance'"
     ]
    }
   ],
   "source": [
    "class SavingsAccount(Account):\n",
    "    \n",
    "    def __init__(self, account_number, balance, interest=0.02):\n",
    "        super().__init__(account_number, balance)\n",
    "        self._interest = interest\n",
    "        \n",
    "    def annual_interest(self):\n",
    "        return self.balance * self._interest\n",
    "    \n",
    "    @property\n",
    "    def interest(self):\n",
    "        return self._interest\n",
    "        \n",
    "Savings = SavingsAccount(\"1000\", 1000)\n",
    "print(Savings.interest)\n",
    "print(Savings.annual_interest())"
   ]
  },
  {
   "cell_type": "markdown",
   "id": "cc7f5e6c",
   "metadata": {},
   "source": [
    "### Exercise 9\n",
    "To prevent the creation of objects from the class Account, modify your implementation so that Account is an abstract class and add an abstract method name description, which should return a string representing the type of the account (\"current\" or \"savings\"). Implement the description method in each subclass."
   ]
  },
  {
   "cell_type": "code",
   "execution_count": 9,
   "id": "48d01988",
   "metadata": {},
   "outputs": [
    {
     "name": "stdout",
     "output_type": "stream",
     "text": [
      "Account\n",
      "current\n",
      "Savings\n"
     ]
    }
   ],
   "source": [
    "from abc import ABC, abstractmethod\n",
    "\n",
    "class Account:\n",
    "    @abstractmethod\n",
    "    def description(self):\n",
    "        return \"Account\"\n",
    "    \n",
    "class CurrentAccount(Account):\n",
    "    @abstractmethod\n",
    "    def description(self):\n",
    "        return \"current\"\n",
    "    \n",
    "class SavingsAccount(Account):\n",
    "    @abstractmethod\n",
    "    def description(self):\n",
    "        return \"Savings\"\n",
    "\n",
    "print(Account().description())\n",
    "print(CurrentAccount().description())\n",
    "print(SavingsAccount().description())"
   ]
  },
  {
   "cell_type": "markdown",
   "id": "171d53b9",
   "metadata": {},
   "source": [
    "### Exercise 10\n",
    "Create a list of Account objects. The list should contain objects of both SavingsAccount and CurrentAccount classes. Then write a loop that identifies the number of accounts that are the absolute value of the overdraft is greater than the account balance."
   ]
  },
  {
   "cell_type": "code",
   "execution_count": 10,
   "id": "fce169bb",
   "metadata": {},
   "outputs": [],
   "source": [
    "from abc import ABC, abstractmethod\n",
    "\n",
    "class Account(ABC):\n",
    "    \n",
    "    def __init__(self, account_number, balance):\n",
    "        self._account_number = account_number\n",
    "        self._balance = balance\n",
    "        \n",
    "    def deposit(self, value):\n",
    "        if value > 0:\n",
    "            self._balance += value\n",
    "        else:\n",
    "            print(\"Invalid value to deposit:\", value)\n",
    "    \n",
    "    def withdraw(self, value):\n",
    "        if value > 0 and value <= self._balance:\n",
    "            self._balance -= value\n",
    "        else:\n",
    "            print(\"Invalid value to withdraw:\", value)\n",
    "    \n",
    "    @property\n",
    "    def account_number(self):\n",
    "        return self._account_number\n",
    "    \n",
    "    @property\n",
    "    def balance(self):\n",
    "        return self._balance\n",
    "    \n",
    "    @abstractmethod\n",
    "    def description(self):\n",
    "        pass"
   ]
  },
  {
   "cell_type": "code",
   "execution_count": 11,
   "id": "cba5ef27",
   "metadata": {},
   "outputs": [],
   "source": [
    "class SavingsAccount(Account):\n",
    "    \n",
    "    def __init__(self, account_number, balance, interest=0.02):\n",
    "        super().__init__(account_number, balance)\n",
    "        self._interest = interest\n",
    "        \n",
    "    def annual_interest(self):\n",
    "        return self.balance * self._interest\n",
    "    \n",
    "    @property\n",
    "    def interest(self):\n",
    "        return self._interest\n",
    "    \n",
    "    def description(self):\n",
    "        return \"savings\""
   ]
  },
  {
   "cell_type": "code",
   "execution_count": 12,
   "id": "41b2224a",
   "metadata": {},
   "outputs": [],
   "source": [
    "class CurrentAccount(Account):\n",
    "    \n",
    "    def __init__(self, account_number, balance, overdraft=100):\n",
    "        super().__init__(account_number, balance)\n",
    "        self._overdraft = overdraft\n",
    "        \n",
    "    def withdraw(self, value):\n",
    "        if value > 0 and value <= (self._balance + self._overdraft):\n",
    "            self._balance -= value\n",
    "        else:\n",
    "            print(\"Invalid value to withdraw:\", value)\n",
    "            \n",
    "    @property\n",
    "    def overdraft(self):\n",
    "        return self._overdraft\n",
    "            \n",
    "    def description(self):\n",
    "        return \"current\""
   ]
  },
  {
   "cell_type": "code",
   "execution_count": 13,
   "id": "f17721fe",
   "metadata": {},
   "outputs": [
    {
     "name": "stdout",
     "output_type": "stream",
     "text": [
      "Account 2003 : overdraft = 100 , balance =  50\n",
      "Account 2004 : overdraft = 100 , balance =  5\n",
      "Account 2006 : overdraft = 1000 , balance =  500\n"
     ]
    }
   ],
   "source": [
    "accounts = []\n",
    "# let's add some accounts\n",
    "accounts.append(SavingsAccount(\"1000\", 1000))\n",
    "accounts.append(SavingsAccount(\"1001\", 5000))\n",
    "accounts.append(CurrentAccount(\"2000\", 10000, 1000))\n",
    "accounts.append(CurrentAccount(\"2001\", 500))\n",
    "accounts.append(SavingsAccount(\"1002\", 10, 0.1))\n",
    "accounts.append(SavingsAccount(\"1003\", 100000, 0.05))\n",
    "accounts.append(CurrentAccount(\"2002\", 10, 0.0))\n",
    "accounts.append(CurrentAccount(\"2003\", 50, 100))\n",
    "accounts.append(CurrentAccount(\"2004\", 5))\n",
    "accounts.append(CurrentAccount(\"2005\", 1000, 10))\n",
    "accounts.append(CurrentAccount(\"2006\", 500, 1000))\n",
    "    \n",
    "\n",
    "for account in accounts:\n",
    "    if isinstance(account, CurrentAccount):\n",
    "        if account.overdraft > account.balance:\n",
    "            print(\"Account\", account.account_number, \": overdraft =\", account.overdraft, \", balance = \", account.balance)"
   ]
  }
 ],
 "metadata": {
  "kernelspec": {
   "display_name": "Python 3 (ipykernel)",
   "language": "python",
   "name": "python3"
  },
  "language_info": {
   "codemirror_mode": {
    "name": "ipython",
    "version": 3
   },
   "file_extension": ".py",
   "mimetype": "text/x-python",
   "name": "python",
   "nbconvert_exporter": "python",
   "pygments_lexer": "ipython3",
   "version": "3.8.10"
  }
 },
 "nbformat": 4,
 "nbformat_minor": 5
}
