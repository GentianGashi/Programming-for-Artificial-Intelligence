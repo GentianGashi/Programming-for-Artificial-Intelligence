{
 "cells": [
  {
   "cell_type": "markdown",
   "id": "4a46eff9",
   "metadata": {},
   "source": [
    "# COMP8270 - Class 1"
   ]
  },
  {
   "cell_type": "markdown",
   "id": "e166caaa",
   "metadata": {},
   "source": [
    "## Task 1"
   ]
  },
  {
   "cell_type": "code",
   "execution_count": 3,
   "id": "ac430935",
   "metadata": {},
   "outputs": [
    {
     "name": "stdout",
     "output_type": "stream",
     "text": [
      "0\n",
      "1\n",
      "1\n",
      "2\n",
      "3\n",
      "5\n",
      "8\n",
      "13\n",
      "21\n"
     ]
    }
   ],
   "source": [
    "n1 = 0\n",
    "n2 = 1\n",
    "\n",
    "# prints the first to number\n",
    "print(n1)\n",
    "\n",
    "# prints the rest of the fibonacci number less than 22\n",
    "while n2 < 22:\n",
    "    print(n2)\n",
    "    n1, n2 = n2, n1 + n2"
   ]
  },
  {
   "cell_type": "markdown",
   "id": "53ddcea5",
   "metadata": {},
   "source": [
    "## Task 2"
   ]
  },
  {
   "cell_type": "code",
   "execution_count": 1,
   "id": "c3e7ae99",
   "metadata": {},
   "outputs": [
    {
     "name": "stdout",
     "output_type": "stream",
     "text": [
      "6 x 1 = 6\n",
      "6 x 2 = 12\n",
      "6 x 3 = 18\n",
      "6 x 4 = 24\n",
      "6 x 5 = 30\n",
      "6 x 6 = 36\n",
      "6 x 7 = 42\n",
      "6 x 8 = 48\n",
      "6 x 9 = 54\n",
      "6 x 10 = 60\n"
     ]
    }
   ],
   "source": [
    "number = 6\n",
    "\n",
    "for i in range(1, 11):\n",
    "    print(number, \"x\", i, \"=\", number * i)"
   ]
  },
  {
   "cell_type": "code",
   "execution_count": null,
   "id": "b83d4bdd",
   "metadata": {},
   "outputs": [],
   "source": []
  }
 ],
 "metadata": {
  "kernelspec": {
   "display_name": "Python 3 (ipykernel)",
   "language": "python",
   "name": "python3"
  },
  "language_info": {
   "codemirror_mode": {
    "name": "ipython",
    "version": 3
   },
   "file_extension": ".py",
   "mimetype": "text/x-python",
   "name": "python",
   "nbconvert_exporter": "python",
   "pygments_lexer": "ipython3",
   "version": "3.8.10"
  }
 },
 "nbformat": 4,
 "nbformat_minor": 5
}
