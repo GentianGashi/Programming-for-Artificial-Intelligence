{
 "cells": [
  {
   "cell_type": "markdown",
   "id": "3461249e",
   "metadata": {},
   "source": [
    "# Introduction to Programming Artificial Intelligence \n",
    "\n",
    "## Class 12 - Keras ANN Classification"
   ]
  },
  {
   "cell_type": "markdown",
   "id": "39d982ce",
   "metadata": {},
   "source": [
    "### Exercise 1\n",
    "Import Keras, and any others packages that you will need"
   ]
  },
  {
   "cell_type": "code",
   "execution_count": 1,
   "id": "a8e17ba7",
   "metadata": {},
   "outputs": [
    {
     "name": "stderr",
     "output_type": "stream",
     "text": [
      "2021-12-17 06:43:16.260081: W tensorflow/stream_executor/platform/default/dso_loader.cc:64] Could not load dynamic library 'libcudart.so.11.0'; dlerror: libcudart.so.11.0: cannot open shared object file: No such file or directory\n",
      "2021-12-17 06:43:16.260104: I tensorflow/stream_executor/cuda/cudart_stub.cc:29] Ignore above cudart dlerror if you do not have a GPU set up on your machine.\n"
     ]
    }
   ],
   "source": [
    "import pandas as pd\n",
    "from pandas.api.types import is_numeric_dtype\n",
    "\n",
    "from keras.models import Sequential\n",
    "from keras.layers import Dense\n",
    "from keras.wrappers.scikit_learn import KerasClassifier\n",
    "from keras.utils import np_utils\n",
    "import keras as keras\n",
    "\n",
    "from sklearn.preprocessing import LabelEncoder\n",
    "from sklearn.preprocessing import OneHotEncoder\n",
    "from sklearn.model_selection import train_test_split\n",
    "from sklearn.model_selection import StratifiedKFold\n",
    "from sklearn.model_selection import cross_val_score\n",
    "\n",
    "from numpy import array\n",
    "\n",
    "from statistics import mean as mean\n",
    "from statistics import stdev as stddev\n",
    "\n",
    "\n",
    "\n",
    "import matplotlib.pyplot as plt\n",
    "plt.rcParams['figure.figsize'] = [8, 8] # set plot size\n"
   ]
  },
  {
   "cell_type": "markdown",
   "id": "0b2889e7",
   "metadata": {},
   "source": [
    "### Exercise 2\n",
    "We want to use loan default as the category so create a new column in the Pandas, “Default”. Take the “Loan Status” feature and map it to the strings “Default” or “Serviced” using a lambda."
   ]
  },
  {
   "cell_type": "code",
   "execution_count": 2,
   "id": "51b9e538",
   "metadata": {},
   "outputs": [],
   "source": [
    "loan = pd.read_csv (\"http://raptor.kent.ac.uk/~ds756/loan.csv\")\n",
    "\n",
    "subLoan = loan.drop (columns=['ID', 'Funded Amount Investor',\n",
    " \"Batch Enrolled\",\n",
    " 'Grade', 'Sub Grade',\n",
    " 'Employment Duration', 'Home Ownership', 'Verification Status',\n",
    " 'Payment Plan', 'Loan Title',\n",
    " 'Delinquency - two years', 'Inquires - six months', 'Open Account',\n",
    " 'Public Record', 'Revolving Balance',\n",
    " 'Total Accounts', 'Initial List Status', 'Total Received Interest',\n",
    " 'Total Received Late Fee', 'Recoveries', 'Collection Recovery Fee',\n",
    " 'Collection 12 months Medical', 'Application Type', 'Last week Pay',\n",
    " 'Accounts Delinquent', 'Total Collection Amount',\n",
    " 'Total Current Balance'])\n",
    "\n",
    "subLoan[\"Default\"] = pd.Series (map (lambda x: \"Serviced\" if x else \"Default\", subLoan[\"Loan Status\"]))"
   ]
  },
  {
   "cell_type": "markdown",
   "id": "e85433bc",
   "metadata": {},
   "source": [
    "### Exercise 3 \n",
    "Drop the “Loan Status” column."
   ]
  },
  {
   "cell_type": "code",
   "execution_count": 3,
   "id": "96b46e12",
   "metadata": {},
   "outputs": [],
   "source": [
    "subLoan = subLoan.drop (columns=['Loan Status'])"
   ]
  },
  {
   "cell_type": "code",
   "execution_count": 4,
   "id": "f337aa32",
   "metadata": {},
   "outputs": [
    {
     "data": {
      "text/html": [
       "<div>\n",
       "<style scoped>\n",
       "    .dataframe tbody tr th:only-of-type {\n",
       "        vertical-align: middle;\n",
       "    }\n",
       "\n",
       "    .dataframe tbody tr th {\n",
       "        vertical-align: top;\n",
       "    }\n",
       "\n",
       "    .dataframe thead th {\n",
       "        text-align: right;\n",
       "    }\n",
       "</style>\n",
       "<table border=\"1\" class=\"dataframe\">\n",
       "  <thead>\n",
       "    <tr style=\"text-align: right;\">\n",
       "      <th></th>\n",
       "      <th>Loan Amount</th>\n",
       "      <th>Funded Amount</th>\n",
       "      <th>Term</th>\n",
       "      <th>Interest Rate</th>\n",
       "      <th>Debit to Income</th>\n",
       "      <th>Revolving Utilities</th>\n",
       "      <th>Total Revolving Credit Limit</th>\n",
       "      <th>Default</th>\n",
       "    </tr>\n",
       "  </thead>\n",
       "  <tbody>\n",
       "    <tr>\n",
       "      <th>0</th>\n",
       "      <td>10000</td>\n",
       "      <td>32236</td>\n",
       "      <td>59</td>\n",
       "      <td>11.135007</td>\n",
       "      <td>16.284758</td>\n",
       "      <td>74.932551</td>\n",
       "      <td>6619</td>\n",
       "      <td>Default</td>\n",
       "    </tr>\n",
       "    <tr>\n",
       "      <th>1</th>\n",
       "      <td>3609</td>\n",
       "      <td>11940</td>\n",
       "      <td>59</td>\n",
       "      <td>12.237563</td>\n",
       "      <td>15.412409</td>\n",
       "      <td>78.297186</td>\n",
       "      <td>20885</td>\n",
       "      <td>Default</td>\n",
       "    </tr>\n",
       "    <tr>\n",
       "      <th>2</th>\n",
       "      <td>28276</td>\n",
       "      <td>9311</td>\n",
       "      <td>59</td>\n",
       "      <td>12.545884</td>\n",
       "      <td>28.137619</td>\n",
       "      <td>2.073040</td>\n",
       "      <td>26155</td>\n",
       "      <td>Default</td>\n",
       "    </tr>\n",
       "    <tr>\n",
       "      <th>3</th>\n",
       "      <td>11170</td>\n",
       "      <td>6954</td>\n",
       "      <td>59</td>\n",
       "      <td>16.731201</td>\n",
       "      <td>18.043730</td>\n",
       "      <td>67.467951</td>\n",
       "      <td>60214</td>\n",
       "      <td>Default</td>\n",
       "    </tr>\n",
       "    <tr>\n",
       "      <th>4</th>\n",
       "      <td>16890</td>\n",
       "      <td>13226</td>\n",
       "      <td>59</td>\n",
       "      <td>15.008300</td>\n",
       "      <td>17.209886</td>\n",
       "      <td>85.250761</td>\n",
       "      <td>22579</td>\n",
       "      <td>Default</td>\n",
       "    </tr>\n",
       "    <tr>\n",
       "      <th>...</th>\n",
       "      <td>...</td>\n",
       "      <td>...</td>\n",
       "      <td>...</td>\n",
       "      <td>...</td>\n",
       "      <td>...</td>\n",
       "      <td>...</td>\n",
       "      <td>...</td>\n",
       "      <td>...</td>\n",
       "    </tr>\n",
       "    <tr>\n",
       "      <th>1258</th>\n",
       "      <td>13601</td>\n",
       "      <td>6848</td>\n",
       "      <td>59</td>\n",
       "      <td>9.408858</td>\n",
       "      <td>28.105127</td>\n",
       "      <td>97.779389</td>\n",
       "      <td>34301</td>\n",
       "      <td>Serviced</td>\n",
       "    </tr>\n",
       "    <tr>\n",
       "      <th>1259</th>\n",
       "      <td>8323</td>\n",
       "      <td>11046</td>\n",
       "      <td>59</td>\n",
       "      <td>9.972104</td>\n",
       "      <td>17.694279</td>\n",
       "      <td>15.690703</td>\n",
       "      <td>8714</td>\n",
       "      <td>Default</td>\n",
       "    </tr>\n",
       "    <tr>\n",
       "      <th>1260</th>\n",
       "      <td>15897</td>\n",
       "      <td>32921</td>\n",
       "      <td>59</td>\n",
       "      <td>19.650943</td>\n",
       "      <td>10.295774</td>\n",
       "      <td>1.500090</td>\n",
       "      <td>42330</td>\n",
       "      <td>Default</td>\n",
       "    </tr>\n",
       "    <tr>\n",
       "      <th>1261</th>\n",
       "      <td>16567</td>\n",
       "      <td>4975</td>\n",
       "      <td>59</td>\n",
       "      <td>13.169095</td>\n",
       "      <td>7.614624</td>\n",
       "      <td>68.481882</td>\n",
       "      <td>39075</td>\n",
       "      <td>Default</td>\n",
       "    </tr>\n",
       "    <tr>\n",
       "      <th>1262</th>\n",
       "      <td>15353</td>\n",
       "      <td>29875</td>\n",
       "      <td>59</td>\n",
       "      <td>16.034631</td>\n",
       "      <td>16.052112</td>\n",
       "      <td>81.692328</td>\n",
       "      <td>66060</td>\n",
       "      <td>Default</td>\n",
       "    </tr>\n",
       "  </tbody>\n",
       "</table>\n",
       "<p>1263 rows × 8 columns</p>\n",
       "</div>"
      ],
      "text/plain": [
       "      Loan Amount  Funded Amount  Term  Interest Rate  Debit to Income  \\\n",
       "0           10000          32236    59      11.135007        16.284758   \n",
       "1            3609          11940    59      12.237563        15.412409   \n",
       "2           28276           9311    59      12.545884        28.137619   \n",
       "3           11170           6954    59      16.731201        18.043730   \n",
       "4           16890          13226    59      15.008300        17.209886   \n",
       "...           ...            ...   ...            ...              ...   \n",
       "1258        13601           6848    59       9.408858        28.105127   \n",
       "1259         8323          11046    59       9.972104        17.694279   \n",
       "1260        15897          32921    59      19.650943        10.295774   \n",
       "1261        16567           4975    59      13.169095         7.614624   \n",
       "1262        15353          29875    59      16.034631        16.052112   \n",
       "\n",
       "      Revolving Utilities  Total Revolving Credit Limit   Default  \n",
       "0               74.932551                          6619   Default  \n",
       "1               78.297186                         20885   Default  \n",
       "2                2.073040                         26155   Default  \n",
       "3               67.467951                         60214   Default  \n",
       "4               85.250761                         22579   Default  \n",
       "...                   ...                           ...       ...  \n",
       "1258            97.779389                         34301  Serviced  \n",
       "1259            15.690703                          8714   Default  \n",
       "1260             1.500090                         42330   Default  \n",
       "1261            68.481882                         39075   Default  \n",
       "1262            81.692328                         66060   Default  \n",
       "\n",
       "[1263 rows x 8 columns]"
      ]
     },
     "execution_count": 4,
     "metadata": {},
     "output_type": "execute_result"
    }
   ],
   "source": [
    "subLoan"
   ]
  },
  {
   "cell_type": "markdown",
   "id": "5ccec4fd",
   "metadata": {},
   "source": [
    "### Exercise 4\n",
    "Turn the Pandas into an array."
   ]
  },
  {
   "cell_type": "code",
   "execution_count": 5,
   "id": "f8c56193",
   "metadata": {},
   "outputs": [
    {
     "data": {
      "text/plain": [
       "array([[10000, 32236, 59, ..., 74.93255103, 6619, 'Default'],\n",
       "       [3609, 11940, 59, ..., 78.29718601, 20885, 'Default'],\n",
       "       [28276, 9311, 59, ..., 2.073039873, 26155, 'Default'],\n",
       "       ...,\n",
       "       [15897, 32921, 59, ..., 1.500090279, 42330, 'Default'],\n",
       "       [16567, 4975, 59, ..., 68.4818825, 39075, 'Default'],\n",
       "       [15353, 29875, 59, ..., 81.69232835, 66060, 'Default']],\n",
       "      dtype=object)"
      ]
     },
     "execution_count": 5,
     "metadata": {},
     "output_type": "execute_result"
    }
   ],
   "source": [
    "data = subLoan.copy ()\n",
    "dataset = data.values\n",
    "dataset"
   ]
  },
  {
   "cell_type": "markdown",
   "id": "e10d8eed",
   "metadata": {},
   "source": [
    "### Exercise 5\n",
    "Split off the numeric predictors"
   ]
  },
  {
   "cell_type": "code",
   "execution_count": 6,
   "id": "e595db68",
   "metadata": {},
   "outputs": [],
   "source": [
    "x = dataset[:, 0:7].astype(float)   # Split off our input features"
   ]
  },
  {
   "cell_type": "markdown",
   "id": "f75c6f59",
   "metadata": {},
   "source": [
    "### Exercise 6\n",
    "Transform the categorical feature in to a hot-encoded vector."
   ]
  },
  {
   "cell_type": "code",
   "execution_count": 7,
   "id": "60be0cfe",
   "metadata": {},
   "outputs": [],
   "source": [
    "# Hot-encode our categorical feature (we reshape because we only have 1)\n",
    "\n",
    "Labels = dataset [:, 7]                    # Split off the outcomes\n",
    "\n",
    "# Let scikit do the hard work!\n",
    "PP_Labels = OneHotEncoder ()\n",
    "\n",
    "# We reshape our labels because each entry needs to be an array, it is a column right now\n",
    "TrainingLabels = PP_Labels.fit_transform (Labels.reshape (-1, 1)).toarray ()"
   ]
  },
  {
   "cell_type": "markdown",
   "id": "da08d4a7",
   "metadata": {},
   "source": [
    "### Exercise 7\n",
    "Split your data in to validation and test subsets."
   ]
  },
  {
   "cell_type": "code",
   "execution_count": 8,
   "id": "fe791880",
   "metadata": {},
   "outputs": [],
   "source": [
    "# Split up our data in to training and verification\n",
    "# Training 90% of the examples, Test is 10% of the examples\n",
    "Xtrain, Xtest, Ltrain, Ltest = train_test_split (x, TrainingLabels, test_size = 0.1)"
   ]
  },
  {
   "cell_type": "markdown",
   "id": "7bc27e5b",
   "metadata": {},
   "source": [
    "### Exercise 8 \n",
    "Create a ANN:\n",
    "- Add a normalization layer\n",
    "- 2 layers with 8 neurons each\n",
    "- A softmax layer\n",
    "- compile it for classification"
   ]
  },
  {
   "cell_type": "code",
   "execution_count": 9,
   "id": "813e348a",
   "metadata": {},
   "outputs": [
    {
     "name": "stderr",
     "output_type": "stream",
     "text": [
      "2021-12-17 06:43:17.542995: W tensorflow/stream_executor/platform/default/dso_loader.cc:64] Could not load dynamic library 'libcuda.so.1'; dlerror: libcuda.so.1: cannot open shared object file: No such file or directory\n",
      "2021-12-17 06:43:17.543031: W tensorflow/stream_executor/cuda/cuda_driver.cc:269] failed call to cuInit: UNKNOWN ERROR (303)\n",
      "2021-12-17 06:43:17.543044: I tensorflow/stream_executor/cuda/cuda_diagnostics.cc:156] kernel driver does not appear to be running on this host (jupyter): /proc/driver/nvidia/version does not exist\n",
      "2021-12-17 06:43:17.543244: I tensorflow/core/platform/cpu_feature_guard.cc:151] This TensorFlow binary is optimized with oneAPI Deep Neural Network Library (oneDNN) to use the following CPU instructions in performance-critical operations:  AVX2 AVX512F FMA\n",
      "To enable them in other operations, rebuild TensorFlow with the appropriate compiler flags.\n"
     ]
    }
   ],
   "source": [
    "model = Sequential()                                       # Keras container for our model\n",
    "\n",
    "model.add (keras.layers.Normalization (input_dim = 7))\n",
    "model.layers[0].adapt (x)\n",
    "\n",
    "model.add (Dense (8, activation='sigmoid'))\n",
    "model.add (Dense (8, activation='sigmoid'))\n",
    "model.add (Dense (2, activation='softmax'))\n",
    "\n",
    "model.compile (loss='categorical_crossentropy', optimizer='Adam', metrics=['accuracy'])    # Build our ANN"
   ]
  },
  {
   "cell_type": "markdown",
   "id": "a9665080",
   "metadata": {},
   "source": [
    "### Exercise 9 \n",
    "Fit the model. Try 1000 epochs and a batch size 500"
   ]
  },
  {
   "cell_type": "code",
   "execution_count": 10,
   "id": "65e26bd0",
   "metadata": {},
   "outputs": [],
   "source": [
    "h = model.fit (\n",
    "    Xtrain, \n",
    "    Ltrain, \n",
    "    batch_size=500,                   # Randomly select 500 training examples per epoch \n",
    "    validation_data = (Xtest, Ltest), # To avoid over-fitting we can monitor the accuracy during training\n",
    "    verbose=False, \n",
    "    epochs = 1000)"
   ]
  },
  {
   "cell_type": "code",
   "execution_count": 11,
   "id": "69370937",
   "metadata": {},
   "outputs": [
    {
     "data": {
      "image/png": "[encoded data removed]",
      "text/plain": [
       "<Figure size 576x576 with 1 Axes>"
      ]
     },
     "metadata": {
      "needs_background": "light"
     },
     "output_type": "display_data"
    }
   ],
   "source": [
    "def LossHistory (history):\n",
    "    plt.plot (history.history['val_loss'], c=\"r\", label='Accuracy')\n",
    "    plt.plot (history.history['loss'], label='Loss')\n",
    "    plt.xlabel ('Epoch')\n",
    "    plt.ylabel ('Loss')\n",
    "    plt.legend ()\n",
    "    plt.grid (True)\n",
    "    plt.show ()\n",
    "\n",
    "LossHistory (h)"
   ]
  },
  {
   "cell_type": "markdown",
   "id": "eee31205",
   "metadata": {},
   "source": [
    "### Exercise 10\n",
    "Try your validation data on your trained model. How did you?"
   ]
  },
  {
   "cell_type": "code",
   "execution_count": 12,
   "id": "a350a61b",
   "metadata": {},
   "outputs": [],
   "source": [
    "# This function will create models on demand\n",
    "#\n",
    "# Remember - they aren't trained.  Just the raw clay waiting to be moulded.\n",
    "\n",
    "def MFactory ():\n",
    "    model = Sequential()\n",
    "\n",
    "    model.add (keras.layers.Normalization (input_dim = 7))\n",
    "    model.layers[0].adapt (x)\n",
    "\n",
    "    model.add (Dense (8, activation='sigmoid'))\n",
    "    model.add (Dense (8, activation='sigmoid'))\n",
    "    model.add (Dense (2, activation='softmax'))\n",
    "\n",
    "    model.compile (loss='categorical_crossentropy', optimizer='Adam', metrics=['accuracy'])\n",
    "    \n",
    "    return model"
   ]
  },
  {
   "cell_type": "code",
   "execution_count": 13,
   "id": "8aaf0942",
   "metadata": {},
   "outputs": [
    {
     "name": "stdout",
     "output_type": "stream",
     "text": [
      "['loss', 'accuracy']\n",
      "[0.28373387455940247, 0.9168646335601807]\n",
      "[0.29239824414253235, 0.9144893288612366]\n",
      "[0.2938336431980133, 0.9144893288612366]\n"
     ]
    }
   ],
   "source": [
    "kfold = StratifiedKFold (n_splits=3, shuffle=True)\n",
    "verify = []\n",
    "\n",
    "print (model.metrics_names) # Cheating, model already exists in our Jupyter kernel\n",
    "\n",
    "#\n",
    "# Loop through different (3) combinations of the data\n",
    "#\n",
    "for train, test in kfold.split (x, subLoan.Default):\n",
    "\n",
    "    predictor = MFactory ()                      # Fresh ANN\n",
    "\n",
    "    h = predictor.fit (x[train], TrainingLabels[train], verbose=False, epochs=1000, batch_size = 500)\n",
    "    Worked = predictor.evaluate (x[test], TrainingLabels[test], verbose=False)\n",
    "\n",
    "    print (Worked)\n",
    "    verify.append (100 * Worked[1])"
   ]
  },
  {
   "cell_type": "code",
   "execution_count": 14,
   "id": "52be69c6",
   "metadata": {},
   "outputs": [
    {
     "name": "stdout",
     "output_type": "stream",
     "text": [
      "91.5281097094218 0.13713828073427545\n"
     ]
    }
   ],
   "source": [
    "print (mean (verify), stddev (verify))"
   ]
  }
 ],
 "metadata": {
  "kernelspec": {
   "display_name": "Python 3 (ipykernel)",
   "language": "python",
   "name": "python3"
  },
  "language_info": {
   "codemirror_mode": {
    "name": "ipython",
    "version": 3
   },
   "file_extension": ".py",
   "mimetype": "text/x-python",
   "name": "python",
   "nbconvert_exporter": "python",
   "pygments_lexer": "ipython3",
   "version": "3.8.10"
  }
 },
 "nbformat": 4,
 "nbformat_minor": 5
}
