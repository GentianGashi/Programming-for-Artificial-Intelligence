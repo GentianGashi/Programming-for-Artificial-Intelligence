{
 "cells": [
  {
   "cell_type": "markdown",
   "id": "3461249e",
   "metadata": {},
   "source": [
    "# Introduction to Programming Artificial Intelligence \n",
    "\n",
    "## Class 10 - Classification"
   ]
  },
  {
   "cell_type": "markdown",
   "id": "39d982ce",
   "metadata": {},
   "source": [
    "### Exercise 1\n",
    "Load the following dataset: `https://archive.ics.uci.edu/ml/machine-learningdatabases/00225/Indian%20Liver%20Patient%20Dataset%20(ILPD).csv` into a Pandas’ DataFrame. Use the following column names:"
   ]
  },
  {
   "cell_type": "code",
   "execution_count": 1,
   "id": "b382bd5f",
   "metadata": {},
   "outputs": [
    {
     "data": {
      "text/html": [
       "<div>\n",
       "<style scoped>\n",
       "    .dataframe tbody tr th:only-of-type {\n",
       "        vertical-align: middle;\n",
       "    }\n",
       "\n",
       "    .dataframe tbody tr th {\n",
       "        vertical-align: top;\n",
       "    }\n",
       "\n",
       "    .dataframe thead th {\n",
       "        text-align: right;\n",
       "    }\n",
       "</style>\n",
       "<table border=\"1\" class=\"dataframe\">\n",
       "  <thead>\n",
       "    <tr style=\"text-align: right;\">\n",
       "      <th></th>\n",
       "      <th>Age</th>\n",
       "      <th>Gender</th>\n",
       "      <th>TB Total Bilirubin</th>\n",
       "      <th>DB Direct Bilirubin</th>\n",
       "      <th>Alkphos Alkaline Phosphotase</th>\n",
       "      <th>Sgpt Alamine Aminotransferase</th>\n",
       "      <th>Sgot Aspartate Aminotransferase</th>\n",
       "      <th>TP Total Protiens</th>\n",
       "      <th>ALB Albumin</th>\n",
       "      <th>A/G Ratio Albumin / Globulin Ratio</th>\n",
       "      <th>Class</th>\n",
       "    </tr>\n",
       "  </thead>\n",
       "  <tbody>\n",
       "    <tr>\n",
       "      <th>0</th>\n",
       "      <td>65</td>\n",
       "      <td>Female</td>\n",
       "      <td>0.7</td>\n",
       "      <td>0.1</td>\n",
       "      <td>187</td>\n",
       "      <td>16</td>\n",
       "      <td>18</td>\n",
       "      <td>6.8</td>\n",
       "      <td>3.3</td>\n",
       "      <td>0.90</td>\n",
       "      <td>1</td>\n",
       "    </tr>\n",
       "    <tr>\n",
       "      <th>1</th>\n",
       "      <td>62</td>\n",
       "      <td>Male</td>\n",
       "      <td>10.9</td>\n",
       "      <td>5.5</td>\n",
       "      <td>699</td>\n",
       "      <td>64</td>\n",
       "      <td>100</td>\n",
       "      <td>7.5</td>\n",
       "      <td>3.2</td>\n",
       "      <td>0.74</td>\n",
       "      <td>1</td>\n",
       "    </tr>\n",
       "    <tr>\n",
       "      <th>2</th>\n",
       "      <td>62</td>\n",
       "      <td>Male</td>\n",
       "      <td>7.3</td>\n",
       "      <td>4.1</td>\n",
       "      <td>490</td>\n",
       "      <td>60</td>\n",
       "      <td>68</td>\n",
       "      <td>7.0</td>\n",
       "      <td>3.3</td>\n",
       "      <td>0.89</td>\n",
       "      <td>1</td>\n",
       "    </tr>\n",
       "    <tr>\n",
       "      <th>3</th>\n",
       "      <td>58</td>\n",
       "      <td>Male</td>\n",
       "      <td>1.0</td>\n",
       "      <td>0.4</td>\n",
       "      <td>182</td>\n",
       "      <td>14</td>\n",
       "      <td>20</td>\n",
       "      <td>6.8</td>\n",
       "      <td>3.4</td>\n",
       "      <td>1.00</td>\n",
       "      <td>1</td>\n",
       "    </tr>\n",
       "    <tr>\n",
       "      <th>4</th>\n",
       "      <td>72</td>\n",
       "      <td>Male</td>\n",
       "      <td>3.9</td>\n",
       "      <td>2.0</td>\n",
       "      <td>195</td>\n",
       "      <td>27</td>\n",
       "      <td>59</td>\n",
       "      <td>7.3</td>\n",
       "      <td>2.4</td>\n",
       "      <td>0.40</td>\n",
       "      <td>1</td>\n",
       "    </tr>\n",
       "    <tr>\n",
       "      <th>...</th>\n",
       "      <td>...</td>\n",
       "      <td>...</td>\n",
       "      <td>...</td>\n",
       "      <td>...</td>\n",
       "      <td>...</td>\n",
       "      <td>...</td>\n",
       "      <td>...</td>\n",
       "      <td>...</td>\n",
       "      <td>...</td>\n",
       "      <td>...</td>\n",
       "      <td>...</td>\n",
       "    </tr>\n",
       "    <tr>\n",
       "      <th>578</th>\n",
       "      <td>60</td>\n",
       "      <td>Male</td>\n",
       "      <td>0.5</td>\n",
       "      <td>0.1</td>\n",
       "      <td>500</td>\n",
       "      <td>20</td>\n",
       "      <td>34</td>\n",
       "      <td>5.9</td>\n",
       "      <td>1.6</td>\n",
       "      <td>0.37</td>\n",
       "      <td>2</td>\n",
       "    </tr>\n",
       "    <tr>\n",
       "      <th>579</th>\n",
       "      <td>40</td>\n",
       "      <td>Male</td>\n",
       "      <td>0.6</td>\n",
       "      <td>0.1</td>\n",
       "      <td>98</td>\n",
       "      <td>35</td>\n",
       "      <td>31</td>\n",
       "      <td>6.0</td>\n",
       "      <td>3.2</td>\n",
       "      <td>1.10</td>\n",
       "      <td>1</td>\n",
       "    </tr>\n",
       "    <tr>\n",
       "      <th>580</th>\n",
       "      <td>52</td>\n",
       "      <td>Male</td>\n",
       "      <td>0.8</td>\n",
       "      <td>0.2</td>\n",
       "      <td>245</td>\n",
       "      <td>48</td>\n",
       "      <td>49</td>\n",
       "      <td>6.4</td>\n",
       "      <td>3.2</td>\n",
       "      <td>1.00</td>\n",
       "      <td>1</td>\n",
       "    </tr>\n",
       "    <tr>\n",
       "      <th>581</th>\n",
       "      <td>31</td>\n",
       "      <td>Male</td>\n",
       "      <td>1.3</td>\n",
       "      <td>0.5</td>\n",
       "      <td>184</td>\n",
       "      <td>29</td>\n",
       "      <td>32</td>\n",
       "      <td>6.8</td>\n",
       "      <td>3.4</td>\n",
       "      <td>1.00</td>\n",
       "      <td>1</td>\n",
       "    </tr>\n",
       "    <tr>\n",
       "      <th>582</th>\n",
       "      <td>38</td>\n",
       "      <td>Male</td>\n",
       "      <td>1.0</td>\n",
       "      <td>0.3</td>\n",
       "      <td>216</td>\n",
       "      <td>21</td>\n",
       "      <td>24</td>\n",
       "      <td>7.3</td>\n",
       "      <td>4.4</td>\n",
       "      <td>1.50</td>\n",
       "      <td>2</td>\n",
       "    </tr>\n",
       "  </tbody>\n",
       "</table>\n",
       "<p>583 rows × 11 columns</p>\n",
       "</div>"
      ],
      "text/plain": [
       "     Age  Gender  TB Total Bilirubin  DB Direct Bilirubin  \\\n",
       "0     65  Female                 0.7                  0.1   \n",
       "1     62    Male                10.9                  5.5   \n",
       "2     62    Male                 7.3                  4.1   \n",
       "3     58    Male                 1.0                  0.4   \n",
       "4     72    Male                 3.9                  2.0   \n",
       "..   ...     ...                 ...                  ...   \n",
       "578   60    Male                 0.5                  0.1   \n",
       "579   40    Male                 0.6                  0.1   \n",
       "580   52    Male                 0.8                  0.2   \n",
       "581   31    Male                 1.3                  0.5   \n",
       "582   38    Male                 1.0                  0.3   \n",
       "\n",
       "     Alkphos Alkaline Phosphotase  Sgpt Alamine Aminotransferase  \\\n",
       "0                             187                             16   \n",
       "1                             699                             64   \n",
       "2                             490                             60   \n",
       "3                             182                             14   \n",
       "4                             195                             27   \n",
       "..                            ...                            ...   \n",
       "578                           500                             20   \n",
       "579                            98                             35   \n",
       "580                           245                             48   \n",
       "581                           184                             29   \n",
       "582                           216                             21   \n",
       "\n",
       "     Sgot Aspartate Aminotransferase  TP Total Protiens  ALB Albumin  \\\n",
       "0                                 18                6.8          3.3   \n",
       "1                                100                7.5          3.2   \n",
       "2                                 68                7.0          3.3   \n",
       "3                                 20                6.8          3.4   \n",
       "4                                 59                7.3          2.4   \n",
       "..                               ...                ...          ...   \n",
       "578                               34                5.9          1.6   \n",
       "579                               31                6.0          3.2   \n",
       "580                               49                6.4          3.2   \n",
       "581                               32                6.8          3.4   \n",
       "582                               24                7.3          4.4   \n",
       "\n",
       "     A/G Ratio Albumin / Globulin Ratio  Class  \n",
       "0                                  0.90      1  \n",
       "1                                  0.74      1  \n",
       "2                                  0.89      1  \n",
       "3                                  1.00      1  \n",
       "4                                  0.40      1  \n",
       "..                                  ...    ...  \n",
       "578                                0.37      2  \n",
       "579                                1.10      1  \n",
       "580                                1.00      1  \n",
       "581                                1.00      1  \n",
       "582                                1.50      2  \n",
       "\n",
       "[583 rows x 11 columns]"
      ]
     },
     "execution_count": 1,
     "metadata": {},
     "output_type": "execute_result"
    }
   ],
   "source": [
    "import pandas as pd\n",
    "columns = [\"Age\",\n",
    "           \"Gender\",\n",
    "           \"TB Total Bilirubin\",\n",
    "           \"DB Direct Bilirubin\",\n",
    "           \"Alkphos Alkaline Phosphotase\",\n",
    "           \"Sgpt Alamine Aminotransferase\",\n",
    "           \"Sgot Aspartate Aminotransferase\",\n",
    "           \"TP Total Protiens\",\n",
    "           \"ALB Albumin\",\n",
    "           \"A/G Ratio Albumin / Globulin Ratio\",\n",
    "           \"Class\"]\n",
    "\n",
    "data = pd.read_csv(\n",
    "\"https://archive.ics.uci.edu/ml/machine-learning-databases/00225/Indian%20Liver%20Patient%20Dataset%20(ILPD).csv\",\n",
    "header=None,\n",
    "names=columns)\n",
    "data"
   ]
  },
  {
   "cell_type": "code",
   "execution_count": 2,
   "id": "89645eae",
   "metadata": {},
   "outputs": [
    {
     "data": {
      "text/plain": [
       "Class\n",
       "1    416\n",
       "2    167\n",
       "Name: Class, dtype: int64"
      ]
     },
     "execution_count": 2,
     "metadata": {},
     "output_type": "execute_result"
    }
   ],
   "source": [
    "data['Class'].groupby(data['Class']).count()"
   ]
  },
  {
   "cell_type": "markdown",
   "id": "0b2889e7",
   "metadata": {},
   "source": [
    "### Exercise 2\n",
    "Build a `DecisionTreeClassifier` using the DataFrame above. You might need to investigate whether to apply any pre-processing step or not. Remember that the ‘Class’ attributes should not be used as a predictor attribute"
   ]
  },
  {
   "cell_type": "markdown",
   "id": "23e89675",
   "metadata": {},
   "source": [
    "#### Preprocessing Data"
   ]
  },
  {
   "cell_type": "code",
   "execution_count": 3,
   "id": "bfdfb7dc",
   "metadata": {},
   "outputs": [],
   "source": [
    "from sklearn.preprocessing import OneHotEncoder\n",
    "enc = OneHotEncoder(handle_unknown='ignore', sparse=False)\n",
    "\n",
    "values = enc.fit_transform(data.loc[:,[\"Gender\"]])\n",
    "enc.categories_\n",
    "\n",
    "data['Female']=values[:,0]\n",
    "data['Male']=values[:,1]\n",
    "\n",
    "data = data.drop(data[data[\"A/G Ratio Albumin / Globulin Ratio\"].isna()].index)\n",
    "data = data.drop(columns = [\"Gender\"])\n",
    "\n",
    "X = data.drop(columns = [\"Class\"])\n",
    "Y = data.loc[:,\"Class\"]"
   ]
  },
  {
   "cell_type": "markdown",
   "id": "6a587f68",
   "metadata": {},
   "source": [
    "#### Decision Tree Model"
   ]
  },
  {
   "cell_type": "code",
   "execution_count": 4,
   "id": "c0fbbf4c",
   "metadata": {},
   "outputs": [
    {
     "data": {
      "text/plain": [
       "DecisionTreeClassifier()"
      ]
     },
     "execution_count": 4,
     "metadata": {},
     "output_type": "execute_result"
    }
   ],
   "source": [
    "from sklearn.tree import DecisionTreeClassifier\n",
    "\n",
    "tree = DecisionTreeClassifier()\n",
    "tree.fit(X,Y)"
   ]
  },
  {
   "cell_type": "markdown",
   "id": "006c7934",
   "metadata": {},
   "source": [
    "#### Evaluation"
   ]
  },
  {
   "cell_type": "code",
   "execution_count": 5,
   "id": "5b1483d3",
   "metadata": {},
   "outputs": [
    {
     "data": {
      "text/plain": [
       "1.0"
      ]
     },
     "execution_count": 5,
     "metadata": {},
     "output_type": "execute_result"
    }
   ],
   "source": [
    "tree.score(X,Y)"
   ]
  },
  {
   "cell_type": "code",
   "execution_count": 6,
   "id": "dc4f0d8a",
   "metadata": {},
   "outputs": [
    {
     "data": {
      "image/png": "[encoded data removed]",
      "text/plain": [
       "<Figure size 432x288 with 2 Axes>"
      ]
     },
     "metadata": {
      "needs_background": "light"
     },
     "output_type": "display_data"
    }
   ],
   "source": [
    "from sklearn.metrics import confusion_matrix, ConfusionMatrixDisplay\n",
    "predictions = tree.predict(X)\n",
    "cm = confusion_matrix(Y, predictions, labels=tree.classes_)\n",
    "disp = ConfusionMatrixDisplay(confusion_matrix=cm, display_labels=tree.classes_)\n",
    "# displays the matrix\n",
    "_ = disp.plot()"
   ]
  },
  {
   "cell_type": "markdown",
   "id": "e85433bc",
   "metadata": {},
   "source": [
    "### Exercise 3 \n",
    "As we discussed in the lecture, to reliably evaluate the quality of a classifier we need to divide the data into training and testing. Using the `train_test_split` function, create and evaluate a DecisionTreeClassifier. Repeat the evaluation 10 times using different `random_state` values and calculate the average performance. "
   ]
  },
  {
   "cell_type": "code",
   "execution_count": 7,
   "id": "f291f40d",
   "metadata": {},
   "outputs": [
    {
     "name": "stdout",
     "output_type": "stream",
     "text": [
      "0.6586206896551723\n"
     ]
    }
   ],
   "source": [
    "from sklearn.model_selection import train_test_split\n",
    "scores = 0\n",
    "\n",
    "for i in range(10):\n",
    "    X_train, X_test, y_train, y_test = train_test_split(X, Y, random_state = i)\n",
    "    \n",
    "    tree = DecisionTreeClassifier()\n",
    "    tree.fit(X_train, y_train)\n",
    "    \n",
    "    scores+= tree.score(X_test, y_test)\n",
    "    \n",
    "print(scores/10)"
   ]
  },
  {
   "cell_type": "code",
   "execution_count": 8,
   "id": "8cf79fc2",
   "metadata": {},
   "outputs": [
    {
     "data": {
      "image/png": "[encoded data removed]",
      "text/plain": [
       "<Figure size 432x288 with 2 Axes>"
      ]
     },
     "metadata": {
      "needs_background": "light"
     },
     "output_type": "display_data"
    }
   ],
   "source": [
    "# displays the confusion matrix\n",
    "predictions = tree.predict(X_test)\n",
    "cm = confusion_matrix(y_test, predictions, labels=tree.classes_)\n",
    "disp = ConfusionMatrixDisplay(confusion_matrix=cm, display_labels=tree.classes_)\n",
    "_ = disp.plot()"
   ]
  },
  {
   "cell_type": "markdown",
   "id": "0dee4707",
   "metadata": {},
   "source": [
    "### Exercise 4\n",
    "We can use the same data to model a different classification problem. For example, try to predict the ‘Gender’ based on the different set of predictors. Train a classifier to predict the ‘Gender’ value, measuring its performance."
   ]
  },
  {
   "cell_type": "markdown",
   "id": "405752e0",
   "metadata": {},
   "source": [
    "#### Preprocessing Data"
   ]
  },
  {
   "cell_type": "code",
   "execution_count": 9,
   "id": "788010ab",
   "metadata": {},
   "outputs": [],
   "source": [
    "from sklearn.model_selection import train_test_split\n",
    "\n",
    "# prepares the training data\n",
    "X = data.drop(columns = [\"Female\",\"Male\"])\n",
    "Y = data.loc[:,\"Female\":\"Male\"]"
   ]
  },
  {
   "cell_type": "markdown",
   "id": "882ac650",
   "metadata": {},
   "source": [
    "#### Describing and evulating decision tree model"
   ]
  },
  {
   "cell_type": "code",
   "execution_count": 10,
   "id": "b1f6376c",
   "metadata": {},
   "outputs": [
    {
     "name": "stdout",
     "output_type": "stream",
     "text": [
      "0.7041379310344827\n"
     ]
    }
   ],
   "source": [
    "from sklearn.model_selection import train_test_split\n",
    "\n",
    "treeScores = 0\n",
    "for i in range(10):\n",
    "    X_train, X_test, y_train, y_test = train_test_split(X, Y, random_state = i)\n",
    "    \n",
    "    tree = DecisionTreeClassifier()\n",
    "    tree.fit(X_train, y_train)\n",
    "    \n",
    "    treeScores+= tree.score(X_test, y_test)\n",
    "    \n",
    "print(treeScores/10)"
   ]
  },
  {
   "cell_type": "markdown",
   "id": "0c0160c4",
   "metadata": {},
   "source": [
    "### Exercise 5\n",
    "Repeat Task 3, this time using a RandomForestClassifier. Compare the results obtained by the RandomForest against the DecisionTree."
   ]
  },
  {
   "cell_type": "markdown",
   "id": "874bed07",
   "metadata": {},
   "source": [
    "#### Describing and evulating random forest model"
   ]
  },
  {
   "cell_type": "code",
   "execution_count": 11,
   "id": "0195111a",
   "metadata": {},
   "outputs": [
    {
     "name": "stdout",
     "output_type": "stream",
     "text": [
      "0.7641379310344828\n"
     ]
    }
   ],
   "source": [
    "from sklearn.ensemble import RandomForestClassifier\n",
    "from sklearn.model_selection import train_test_split\n",
    "\n",
    "forestScores = 0\n",
    "for i in range(10):\n",
    "    X_train, X_test, y_train, y_test = train_test_split(X, Y, random_state = i)\n",
    "    \n",
    "    forest = RandomForestClassifier()\n",
    "    forest.fit(X_train, y_train)\n",
    "    \n",
    "    forestScores+= forest.score(X_test, y_test)\n",
    "    \n",
    "print(forestScores/10)"
   ]
  },
  {
   "cell_type": "markdown",
   "id": "8a477692",
   "metadata": {},
   "source": [
    "#### Comparing DecisionTree against RandomForest"
   ]
  },
  {
   "cell_type": "code",
   "execution_count": 12,
   "id": "e9bc61a2",
   "metadata": {},
   "outputs": [
    {
     "data": {
      "image/png": "[encoded data removed]",
      "text/plain": [
       "<Figure size 432x288 with 1 Axes>"
      ]
     },
     "metadata": {
      "needs_background": "light"
     },
     "output_type": "display_data"
    }
   ],
   "source": [
    "import pandas as pd\n",
    "import matplotlib.pyplot as plt\n",
    "\n",
    "#[GA code is here but deleted for simplicity]\n",
    "\n",
    "x = [\"DecisionTree\", \"RandomForest\"]\n",
    "y = [treeScores, forestScores]\n",
    "\n",
    "plt.bar(x,y,label=\"Classifiers\", zorder=3)\n",
    "\n",
    "# set labels and plot\n",
    "plt.xlabel (\"Classifier\")\n",
    "plt.ylabel (\"Mean Score\")\n",
    "plt.title (\"DecisionTree versus RandomForest\")\n",
    "plt.grid()\n",
    "plt.legend()\n",
    "plt.show()"
   ]
  }
 ],
 "metadata": {
  "kernelspec": {
   "display_name": "Python 3 (ipykernel)",
   "language": "python",
   "name": "python3"
  },
  "language_info": {
   "codemirror_mode": {
    "name": "ipython",
    "version": 3
   },
   "file_extension": ".py",
   "mimetype": "text/x-python",
   "name": "python",
   "nbconvert_exporter": "python",
   "pygments_lexer": "ipython3",
   "version": "3.8.10"
  }
 },
 "nbformat": 4,
 "nbformat_minor": 5
}
