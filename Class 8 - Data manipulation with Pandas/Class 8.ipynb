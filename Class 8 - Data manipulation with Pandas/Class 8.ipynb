{
 "cells": [
  {
   "cell_type": "code",
   "execution_count": 1,
   "id": "9d478d07",
   "metadata": {},
   "outputs": [],
   "source": [
    "import pandas as pd\n",
    "from statistics import mean as mean\n",
    "heart = pd.read_csv (\"http://raptor.kent.ac.uk/~ds756/heart.csv\")"
   ]
  },
  {
   "cell_type": "code",
   "execution_count": 2,
   "id": "e5287d78",
   "metadata": {},
   "outputs": [
    {
     "data": {
      "text/plain": [
       "Age              49123.0\n",
       "RestingBP       121540.0\n",
       "Cholesterol     182498.0\n",
       "FastingBS          214.0\n",
       "MaxHR           125591.0\n",
       "Oldpeak            814.6\n",
       "HeartDisease       508.0\n",
       "dtype: float64"
      ]
     },
     "execution_count": 2,
     "metadata": {},
     "output_type": "execute_result"
    }
   ],
   "source": [
    "sigma = heart.sum (numeric_only=True) # Question 1\n",
    "sigma"
   ]
  },
  {
   "cell_type": "code",
   "execution_count": 3,
   "id": "498a0f5d",
   "metadata": {},
   "outputs": [
    {
     "data": {
      "text/plain": [
       "480288.6"
      ]
     },
     "execution_count": 3,
     "metadata": {},
     "output_type": "execute_result"
    }
   ],
   "source": [
    "sum (sigma)                          # Question 2"
   ]
  },
  {
   "cell_type": "markdown",
   "id": "ab1f31a9",
   "metadata": {},
   "source": [
    "Question 3 (assessment): The strategy is to sort the feature first and <i>then</i> compute the longest run.  The longest run is the mode.\n",
    "\n",
    "Sorting was the \"something\" specified in the exercise required prior to invocation."
   ]
  },
  {
   "cell_type": "code",
   "execution_count": 4,
   "id": "087abb9c",
   "metadata": {},
   "outputs": [
    {
     "data": {
      "text/plain": [
       "Int64Index([28, 29, 29, 29, 30, 31, 31, 32, 32, 32,\n",
       "            ...\n",
       "            74, 74, 74, 75, 75, 75, 76, 76, 77, 77],\n",
       "           dtype='int64', name='Age', length=918)"
      ]
     },
     "execution_count": 4,
     "metadata": {},
     "output_type": "execute_result"
    }
   ],
   "source": [
    "heart_i = heart.set_index (\"Age\")\n",
    "heart_i = heart_i.sort_values (\"Age\")\n",
    "heart_i.index"
   ]
  },
  {
   "cell_type": "code",
   "execution_count": 5,
   "id": "7fbde5ad",
   "metadata": {},
   "outputs": [],
   "source": [
    "def ComputeMode (z):\n",
    "    mode = None    # What we think the mode is\n",
    "    best = 0       # The mode's frequency\n",
    "\n",
    "    current = None # The current value in the run\n",
    "    ax = 0         # The length of the current run (accumulator)\n",
    "    \n",
    "    for x in z:\n",
    "        if x != current:     # New value --> the run is broken\n",
    "            if ax > best:    # Test if this is the longest we've seen so far\n",
    "                best = ax\n",
    "                mode = current\n",
    "            ax = 1            # Reset the run\n",
    "            current = x\n",
    "        else:\n",
    "            ax += 1           # Same run, increase the frequency\n",
    "    return mode, best\n"
   ]
  },
  {
   "cell_type": "code",
   "execution_count": 6,
   "id": "45cd4990",
   "metadata": {},
   "outputs": [
    {
     "data": {
      "text/plain": [
       "(54, 51)"
      ]
     },
     "execution_count": 6,
     "metadata": {},
     "output_type": "execute_result"
    }
   ],
   "source": [
    "mode = ComputeMode (heart_i.index)\n",
    "mode"
   ]
  },
  {
   "cell_type": "code",
   "execution_count": 7,
   "id": "94abb43a",
   "metadata": {},
   "outputs": [
    {
     "data": {
      "text/plain": [
       "Age\n",
       "54    51\n",
       "dtype: int64"
      ]
     },
     "execution_count": 7,
     "metadata": {},
     "output_type": "execute_result"
    }
   ],
   "source": [
    "freqs = heart[[\"Age\"]].groupby ([\"Age\"]).size () # Question 3, we can also accept this\n",
    "freqs.loc[freqs == max (freqs)]"
   ]
  },
  {
   "cell_type": "code",
   "execution_count": 8,
   "id": "57148ab0",
   "metadata": {},
   "outputs": [
    {
     "data": {
      "text/html": [
       "<div>\n",
       "<style scoped>\n",
       "    .dataframe tbody tr th:only-of-type {\n",
       "        vertical-align: middle;\n",
       "    }\n",
       "\n",
       "    .dataframe tbody tr th {\n",
       "        vertical-align: top;\n",
       "    }\n",
       "\n",
       "    .dataframe thead th {\n",
       "        text-align: right;\n",
       "    }\n",
       "</style>\n",
       "<table border=\"1\" class=\"dataframe\">\n",
       "  <thead>\n",
       "    <tr style=\"text-align: right;\">\n",
       "      <th></th>\n",
       "      <th>HeartDisease</th>\n",
       "    </tr>\n",
       "    <tr>\n",
       "      <th>Age</th>\n",
       "      <th></th>\n",
       "    </tr>\n",
       "  </thead>\n",
       "  <tbody>\n",
       "    <tr>\n",
       "      <th>28</th>\n",
       "      <td>0.000000</td>\n",
       "    </tr>\n",
       "    <tr>\n",
       "      <th>29</th>\n",
       "      <td>0.000000</td>\n",
       "    </tr>\n",
       "    <tr>\n",
       "      <th>30</th>\n",
       "      <td>0.000000</td>\n",
       "    </tr>\n",
       "    <tr>\n",
       "      <th>31</th>\n",
       "      <td>0.500000</td>\n",
       "    </tr>\n",
       "    <tr>\n",
       "      <th>32</th>\n",
       "      <td>0.400000</td>\n",
       "    </tr>\n",
       "    <tr>\n",
       "      <th>33</th>\n",
       "      <td>0.500000</td>\n",
       "    </tr>\n",
       "    <tr>\n",
       "      <th>34</th>\n",
       "      <td>0.285714</td>\n",
       "    </tr>\n",
       "    <tr>\n",
       "      <th>35</th>\n",
       "      <td>0.363636</td>\n",
       "    </tr>\n",
       "    <tr>\n",
       "      <th>36</th>\n",
       "      <td>0.333333</td>\n",
       "    </tr>\n",
       "    <tr>\n",
       "      <th>37</th>\n",
       "      <td>0.090909</td>\n",
       "    </tr>\n",
       "    <tr>\n",
       "      <th>38</th>\n",
       "      <td>0.687500</td>\n",
       "    </tr>\n",
       "    <tr>\n",
       "      <th>39</th>\n",
       "      <td>0.133333</td>\n",
       "    </tr>\n",
       "    <tr>\n",
       "      <th>40</th>\n",
       "      <td>0.461538</td>\n",
       "    </tr>\n",
       "    <tr>\n",
       "      <th>41</th>\n",
       "      <td>0.250000</td>\n",
       "    </tr>\n",
       "    <tr>\n",
       "      <th>42</th>\n",
       "      <td>0.166667</td>\n",
       "    </tr>\n",
       "    <tr>\n",
       "      <th>43</th>\n",
       "      <td>0.458333</td>\n",
       "    </tr>\n",
       "    <tr>\n",
       "      <th>44</th>\n",
       "      <td>0.315789</td>\n",
       "    </tr>\n",
       "    <tr>\n",
       "      <th>45</th>\n",
       "      <td>0.166667</td>\n",
       "    </tr>\n",
       "    <tr>\n",
       "      <th>46</th>\n",
       "      <td>0.541667</td>\n",
       "    </tr>\n",
       "    <tr>\n",
       "      <th>47</th>\n",
       "      <td>0.578947</td>\n",
       "    </tr>\n",
       "    <tr>\n",
       "      <th>48</th>\n",
       "      <td>0.483871</td>\n",
       "    </tr>\n",
       "    <tr>\n",
       "      <th>49</th>\n",
       "      <td>0.523810</td>\n",
       "    </tr>\n",
       "    <tr>\n",
       "      <th>50</th>\n",
       "      <td>0.560000</td>\n",
       "    </tr>\n",
       "    <tr>\n",
       "      <th>51</th>\n",
       "      <td>0.428571</td>\n",
       "    </tr>\n",
       "    <tr>\n",
       "      <th>52</th>\n",
       "      <td>0.527778</td>\n",
       "    </tr>\n",
       "    <tr>\n",
       "      <th>53</th>\n",
       "      <td>0.454545</td>\n",
       "    </tr>\n",
       "    <tr>\n",
       "      <th>54</th>\n",
       "      <td>0.450980</td>\n",
       "    </tr>\n",
       "    <tr>\n",
       "      <th>55</th>\n",
       "      <td>0.585366</td>\n",
       "    </tr>\n",
       "    <tr>\n",
       "      <th>56</th>\n",
       "      <td>0.657895</td>\n",
       "    </tr>\n",
       "    <tr>\n",
       "      <th>57</th>\n",
       "      <td>0.684211</td>\n",
       "    </tr>\n",
       "    <tr>\n",
       "      <th>58</th>\n",
       "      <td>0.666667</td>\n",
       "    </tr>\n",
       "    <tr>\n",
       "      <th>59</th>\n",
       "      <td>0.657143</td>\n",
       "    </tr>\n",
       "    <tr>\n",
       "      <th>60</th>\n",
       "      <td>0.750000</td>\n",
       "    </tr>\n",
       "    <tr>\n",
       "      <th>61</th>\n",
       "      <td>0.838710</td>\n",
       "    </tr>\n",
       "    <tr>\n",
       "      <th>62</th>\n",
       "      <td>0.714286</td>\n",
       "    </tr>\n",
       "    <tr>\n",
       "      <th>63</th>\n",
       "      <td>0.766667</td>\n",
       "    </tr>\n",
       "    <tr>\n",
       "      <th>64</th>\n",
       "      <td>0.681818</td>\n",
       "    </tr>\n",
       "    <tr>\n",
       "      <th>65</th>\n",
       "      <td>0.714286</td>\n",
       "    </tr>\n",
       "    <tr>\n",
       "      <th>66</th>\n",
       "      <td>0.538462</td>\n",
       "    </tr>\n",
       "    <tr>\n",
       "      <th>67</th>\n",
       "      <td>0.800000</td>\n",
       "    </tr>\n",
       "    <tr>\n",
       "      <th>68</th>\n",
       "      <td>0.600000</td>\n",
       "    </tr>\n",
       "    <tr>\n",
       "      <th>69</th>\n",
       "      <td>0.769231</td>\n",
       "    </tr>\n",
       "    <tr>\n",
       "      <th>70</th>\n",
       "      <td>0.857143</td>\n",
       "    </tr>\n",
       "    <tr>\n",
       "      <th>71</th>\n",
       "      <td>0.400000</td>\n",
       "    </tr>\n",
       "    <tr>\n",
       "      <th>72</th>\n",
       "      <td>0.750000</td>\n",
       "    </tr>\n",
       "    <tr>\n",
       "      <th>73</th>\n",
       "      <td>1.000000</td>\n",
       "    </tr>\n",
       "    <tr>\n",
       "      <th>74</th>\n",
       "      <td>0.714286</td>\n",
       "    </tr>\n",
       "    <tr>\n",
       "      <th>75</th>\n",
       "      <td>0.666667</td>\n",
       "    </tr>\n",
       "    <tr>\n",
       "      <th>76</th>\n",
       "      <td>0.500000</td>\n",
       "    </tr>\n",
       "    <tr>\n",
       "      <th>77</th>\n",
       "      <td>1.000000</td>\n",
       "    </tr>\n",
       "  </tbody>\n",
       "</table>\n",
       "</div>"
      ],
      "text/plain": [
       "     HeartDisease\n",
       "Age              \n",
       "28       0.000000\n",
       "29       0.000000\n",
       "30       0.000000\n",
       "31       0.500000\n",
       "32       0.400000\n",
       "33       0.500000\n",
       "34       0.285714\n",
       "35       0.363636\n",
       "36       0.333333\n",
       "37       0.090909\n",
       "38       0.687500\n",
       "39       0.133333\n",
       "40       0.461538\n",
       "41       0.250000\n",
       "42       0.166667\n",
       "43       0.458333\n",
       "44       0.315789\n",
       "45       0.166667\n",
       "46       0.541667\n",
       "47       0.578947\n",
       "48       0.483871\n",
       "49       0.523810\n",
       "50       0.560000\n",
       "51       0.428571\n",
       "52       0.527778\n",
       "53       0.454545\n",
       "54       0.450980\n",
       "55       0.585366\n",
       "56       0.657895\n",
       "57       0.684211\n",
       "58       0.666667\n",
       "59       0.657143\n",
       "60       0.750000\n",
       "61       0.838710\n",
       "62       0.714286\n",
       "63       0.766667\n",
       "64       0.681818\n",
       "65       0.714286\n",
       "66       0.538462\n",
       "67       0.800000\n",
       "68       0.600000\n",
       "69       0.769231\n",
       "70       0.857143\n",
       "71       0.400000\n",
       "72       0.750000\n",
       "73       1.000000\n",
       "74       0.714286\n",
       "75       0.666667\n",
       "76       0.500000\n",
       "77       1.000000"
      ]
     },
     "execution_count": 8,
     "metadata": {},
     "output_type": "execute_result"
    }
   ],
   "source": [
    "Rate = heart[[\"Age\", \"HeartDisease\"]].groupby (\"Age\").mean () # Question 4\n",
    "Rate"
   ]
  }
 ],
 "metadata": {
  "kernelspec": {
   "display_name": "Python 3 (ipykernel)",
   "language": "python",
   "name": "python3"
  },
  "language_info": {
   "codemirror_mode": {
    "name": "ipython",
    "version": 3
   },
   "file_extension": ".py",
   "mimetype": "text/x-python",
   "name": "python",
   "nbconvert_exporter": "python",
   "pygments_lexer": "ipython3",
   "version": "3.8.10"
  }
 },
 "nbformat": 4,
 "nbformat_minor": 5
}
