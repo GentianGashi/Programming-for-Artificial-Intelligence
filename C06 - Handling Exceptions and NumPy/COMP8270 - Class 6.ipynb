{
 "cells": [
  {
   "cell_type": "markdown",
   "id": "b900bf32",
   "metadata": {},
   "source": [
    "## Task 1"
   ]
  },
  {
   "cell_type": "code",
   "execution_count": 3,
   "id": "f8ff5b17",
   "metadata": {},
   "outputs": [
    {
     "name": "stdout",
     "output_type": "stream",
     "text": [
      "['o', 'k', 't']\n"
     ]
    }
   ],
   "source": [
    "words = [\"chocolate\", \"chicken\", \"soup\", \"potatoes\", \"beef\", \"lox\", \"beef\"]\n",
    "fifth_letter = []\n",
    "\n",
    "for w in words:\n",
    "    try:\n",
    "        fifth_letter.append(w[4])\n",
    "    except:\n",
    "        pass\n",
    "    \n",
    "print(fifth_letter)"
   ]
  },
  {
   "cell_type": "markdown",
   "id": "436ef5ae",
   "metadata": {},
   "source": [
    "## Task 2"
   ]
  },
  {
   "cell_type": "code",
   "execution_count": 7,
   "id": "94c63a85",
   "metadata": {},
   "outputs": [
    {
     "name": "stdout",
     "output_type": "stream",
     "text": [
      "b\n",
      "None\n"
     ]
    }
   ],
   "source": [
    "def get_value(values, index):\n",
    "    try:\n",
    "        return values[index]\n",
    "    except:\n",
    "        return None\n",
    "\n",
    "# sample list data\n",
    "my_list = ['a', 'b', 'c']\n",
    "\n",
    "print(get_value(my_list, 1))\n",
    "print(get_value(my_list, 4))"
   ]
  },
  {
   "cell_type": "markdown",
   "id": "662fea8d",
   "metadata": {},
   "source": [
    "## Task 3"
   ]
  },
  {
   "cell_type": "code",
   "execution_count": 10,
   "id": "1aba7c71",
   "metadata": {},
   "outputs": [
    {
     "name": "stdout",
     "output_type": "stream",
     "text": [
      "-0.2231435513142097\n",
      "-0.10536051565782628\n",
      "-2.3025850929940455\n",
      "-1.2039728043126026\n",
      "-0.6931471805599453\n",
      "0.0\n",
      "-0.10536051565782628\n",
      "-0.10536051565782628\n",
      "-2.3025850929940455\n",
      "0.0\n",
      "-1.6094379124341003\n",
      "-1.6094379124341003\n",
      "-2.3025850929940455\n",
      "-0.10536051565782628\n",
      "0.0\n"
     ]
    }
   ],
   "source": [
    "import math\n",
    "\n",
    "def batch_log(values):\n",
    "    for x in values:\n",
    "        try:\n",
    "            print(math.log(x))\n",
    "        except ValueError:\n",
    "            pass\n",
    "\n",
    "values = [0.8, -0.1, 0.9, -0.1, 0.1, 0.300000000004, -0.1, 0.5, 1.0, -0.1, 0.9, 0.9, 0.1, 1.0, 0.2, 0.2, 0.1, 0.9, 0.0, 1.0]\n",
    "\n",
    "batch_log(values)"
   ]
  },
  {
   "cell_type": "markdown",
   "id": "14207a8c",
   "metadata": {},
   "source": [
    "## Task 4"
   ]
  },
  {
   "cell_type": "code",
   "execution_count": 22,
   "id": "056018c8",
   "metadata": {},
   "outputs": [
    {
     "ename": "InsufficientBalanceError",
     "evalue": "Cannot widthdraw",
     "output_type": "error",
     "traceback": [
      "\u001b[0;31m---------------------------------------------------------------------------\u001b[0m",
      "\u001b[0;31mInsufficientBalanceError\u001b[0m                  Traceback (most recent call last)",
      "\u001b[0;32m/tmp/ipykernel_630557/1329248733.py\u001b[0m in \u001b[0;36m<module>\u001b[0;34m\u001b[0m\n\u001b[1;32m     16\u001b[0m \u001b[0;31m# sample code\u001b[0m\u001b[0;34m\u001b[0m\u001b[0;34m\u001b[0m\u001b[0;34m\u001b[0m\u001b[0m\n\u001b[1;32m     17\u001b[0m \u001b[0maccount\u001b[0m \u001b[0;34m=\u001b[0m \u001b[0mAccount\u001b[0m\u001b[0;34m(\u001b[0m\u001b[0;34m\"1000\"\u001b[0m\u001b[0;34m,\u001b[0m \u001b[0;36m100\u001b[0m\u001b[0;34m)\u001b[0m\u001b[0;34m\u001b[0m\u001b[0;34m\u001b[0m\u001b[0m\n\u001b[0;32m---> 18\u001b[0;31m \u001b[0maccount\u001b[0m\u001b[0;34m.\u001b[0m\u001b[0mwithdraw\u001b[0m\u001b[0;34m(\u001b[0m\u001b[0;36m200\u001b[0m\u001b[0;34m)\u001b[0m\u001b[0;34m\u001b[0m\u001b[0;34m\u001b[0m\u001b[0m\n\u001b[0m",
      "\u001b[0;32m/tmp/ipykernel_630557/1329248733.py\u001b[0m in \u001b[0;36mwithdraw\u001b[0;34m(self, value)\u001b[0m\n\u001b[1;32m     12\u001b[0m             \u001b[0mself\u001b[0m\u001b[0;34m.\u001b[0m\u001b[0mbalance\u001b[0m \u001b[0;34m-=\u001b[0m \u001b[0mvalue\u001b[0m\u001b[0;34m\u001b[0m\u001b[0;34m\u001b[0m\u001b[0m\n\u001b[1;32m     13\u001b[0m         \u001b[0;32melse\u001b[0m\u001b[0;34m:\u001b[0m\u001b[0;34m\u001b[0m\u001b[0;34m\u001b[0m\u001b[0m\n\u001b[0;32m---> 14\u001b[0;31m             \u001b[0;32mraise\u001b[0m \u001b[0mInsufficientBalanceError\u001b[0m\u001b[0;34m(\u001b[0m\u001b[0;34m\"Cannot widthdraw\"\u001b[0m\u001b[0;34m)\u001b[0m\u001b[0;34m\u001b[0m\u001b[0;34m\u001b[0m\u001b[0m\n\u001b[0m\u001b[1;32m     15\u001b[0m \u001b[0;34m\u001b[0m\u001b[0m\n\u001b[1;32m     16\u001b[0m \u001b[0;31m# sample code\u001b[0m\u001b[0;34m\u001b[0m\u001b[0;34m\u001b[0m\u001b[0;34m\u001b[0m\u001b[0m\n",
      "\u001b[0;31mInsufficientBalanceError\u001b[0m: Cannot widthdraw"
     ]
    }
   ],
   "source": [
    "class InsufficientBalanceError(Exception):\n",
    "    def __init__(self, message):\n",
    "        super().__init__(message)\n",
    "\n",
    "class Account:\n",
    "    def __init__(self, number, balance):\n",
    "        self.number = number\n",
    "        self.balance = balance\n",
    "\n",
    "    def withdraw(self, value):\n",
    "        if value <= self.balance:\n",
    "            self.balance -= value\n",
    "        else:\n",
    "            raise InsufficientBalanceError(\"Cannot widthdraw\")\n",
    "\n",
    "# sample code\n",
    "account = Account(\"1000\", 100)\n",
    "account.withdraw(200)"
   ]
  },
  {
   "cell_type": "code",
   "execution_count": 23,
   "id": "6b12b83b",
   "metadata": {},
   "outputs": [
    {
     "data": {
      "text/plain": [
       "100"
      ]
     },
     "execution_count": 23,
     "metadata": {},
     "output_type": "execute_result"
    }
   ],
   "source": [
    "account.balance"
   ]
  },
  {
   "cell_type": "markdown",
   "id": "bdaaca38",
   "metadata": {},
   "source": [
    "## Task 5"
   ]
  },
  {
   "cell_type": "code",
   "execution_count": 24,
   "id": "9d27904a",
   "metadata": {},
   "outputs": [],
   "source": [
    "import numpy as np"
   ]
  },
  {
   "cell_type": "code",
   "execution_count": 28,
   "id": "c5736ae6",
   "metadata": {},
   "outputs": [],
   "source": [
    "arr = np.random.randn(10, 5)"
   ]
  },
  {
   "cell_type": "code",
   "execution_count": 29,
   "id": "c50ace84",
   "metadata": {},
   "outputs": [
    {
     "data": {
      "text/plain": [
       "array([[ 1.43988806, -0.08066666, -0.58755504, -0.18997682, -1.15785492],\n",
       "       [-0.08263411,  0.13951765, -0.6024818 , -0.72856211, -1.02491963],\n",
       "       [-1.46681842, -0.75343242, -0.07026475,  1.18191797,  0.48684891],\n",
       "       [-0.36397278, -0.69564437, -0.19948517, -1.29628789,  0.03186419],\n",
       "       [ 0.79603284, -1.31152775,  2.02250396,  2.12965935,  1.32258378],\n",
       "       [-2.11927906,  0.913258  , -0.59353197,  0.0487556 , -0.52518394],\n",
       "       [-0.22939235,  0.98471153, -0.95863928, -1.24405355,  1.1347853 ],\n",
       "       [ 1.0152971 ,  0.21629448, -0.79623101,  0.58478159,  0.0716718 ],\n",
       "       [ 0.20230085,  0.4052564 ,  0.21867782, -1.36157943, -1.04519848],\n",
       "       [ 0.73387739,  0.75044025, -1.32264179,  0.43972526, -0.76187265]])"
      ]
     },
     "execution_count": 29,
     "metadata": {},
     "output_type": "execute_result"
    }
   ],
   "source": [
    "arr"
   ]
  },
  {
   "cell_type": "markdown",
   "id": "c6912eb1",
   "metadata": {},
   "source": [
    "## Task 6"
   ]
  },
  {
   "cell_type": "code",
   "execution_count": 55,
   "id": "1a0a29de",
   "metadata": {},
   "outputs": [],
   "source": [
    "def highest_value_row(array):\n",
    "    max_per_row = array.max(axis=1)\n",
    "    \n",
    "    # I haven't told them about argmax\n",
    "    #print(max_per_row.argmax())\n",
    "    \n",
    "    max_index = 0\n",
    "    max_value = -math.inf\n",
    "\n",
    "    for index, value in enumerate(max_per_row):\n",
    "        if value > max_value:\n",
    "            max_index = index\n",
    "            max_value = value\n",
    "            \n",
    "    return max_index\n",
    "        "
   ]
  },
  {
   "cell_type": "code",
   "execution_count": 56,
   "id": "0cb386c8",
   "metadata": {},
   "outputs": [
    {
     "name": "stdout",
     "output_type": "stream",
     "text": [
      "[1.43988806 0.13951765 1.18191797 0.03186419 2.12965935 0.913258\n",
      " 1.1347853  1.0152971  0.4052564  0.75044025]\n"
     ]
    },
    {
     "data": {
      "text/plain": [
       "4"
      ]
     },
     "execution_count": 56,
     "metadata": {},
     "output_type": "execute_result"
    }
   ],
   "source": [
    "highest_value_row(arr)"
   ]
  },
  {
   "cell_type": "markdown",
   "id": "e05e1fab",
   "metadata": {},
   "source": [
    "## Task 7"
   ]
  },
  {
   "cell_type": "code",
   "execution_count": 60,
   "id": "e22aeabf",
   "metadata": {},
   "outputs": [],
   "source": [
    "def highest_value_column(array):\n",
    "    max_per_col = array.max(axis=0)\n",
    "    \n",
    "    # I haven't told them about argmax\n",
    "    #print(max_per_col.argmax())\n",
    "    \n",
    "    max_index = 0\n",
    "    max_value = -math.inf\n",
    "\n",
    "    for index, value in enumerate(max_per_col):\n",
    "        if value > max_value:\n",
    "            max_index = index\n",
    "            max_value = value\n",
    "            \n",
    "    return max_index\n",
    "        "
   ]
  },
  {
   "cell_type": "code",
   "execution_count": 61,
   "id": "c21dc2d2",
   "metadata": {},
   "outputs": [
    {
     "data": {
      "text/plain": [
       "3"
      ]
     },
     "execution_count": 61,
     "metadata": {},
     "output_type": "execute_result"
    }
   ],
   "source": [
    "highest_value_column(arr)"
   ]
  },
  {
   "cell_type": "markdown",
   "id": "b435e13f",
   "metadata": {},
   "source": [
    "## Task 8"
   ]
  },
  {
   "cell_type": "code",
   "execution_count": 62,
   "id": "4661cd61",
   "metadata": {},
   "outputs": [
    {
     "data": {
      "text/plain": [
       "(4, 3)"
      ]
     },
     "execution_count": 62,
     "metadata": {},
     "output_type": "execute_result"
    }
   ],
   "source": [
    "def highest_value_tuple(array):\n",
    "    x, y = array.shape\n",
    "    max_value = -math.inf\n",
    "    \n",
    "    for row in range(x):\n",
    "        for col in range(y):\n",
    "            if array[row][col] > max_value:\n",
    "                max_tuple = (row, col)\n",
    "                max_value = array[row][col]\n",
    "                \n",
    "    return max_tuple\n",
    "\n",
    "highest_value_tuple(arr)"
   ]
  }
 ],
 "metadata": {
  "kernelspec": {
   "display_name": "Python 3 (ipykernel)",
   "language": "python",
   "name": "python3"
  },
  "language_info": {
   "codemirror_mode": {
    "name": "ipython",
    "version": 3
   },
   "file_extension": ".py",
   "mimetype": "text/x-python",
   "name": "python",
   "nbconvert_exporter": "python",
   "pygments_lexer": "ipython3",
   "version": "3.8.10"
  }
 },
 "nbformat": 4,
 "nbformat_minor": 5
}
