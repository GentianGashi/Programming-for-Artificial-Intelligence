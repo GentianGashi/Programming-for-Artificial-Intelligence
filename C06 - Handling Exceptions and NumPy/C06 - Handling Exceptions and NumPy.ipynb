{
 "cells": [
  {
   "cell_type": "markdown",
   "id": "3461249e",
   "metadata": {},
   "source": [
    "# Introduction to Programming Artificial Intelligence \n",
    "\n",
    "## Class 6 - Exceptions and NumPy ndarray"
   ]
  },
  {
   "cell_type": "markdown",
   "id": "39d982ce",
   "metadata": {},
   "source": [
    "### Exercise 1\n",
    "\n",
    "The following code iterates over a list of words and assigns a fifth letter of each word to the new list fifth_letter. The current version of the code produces an exception. Your task is to include a try/except clause that will allow the code to run and produce a list of the fifth letter in each word, only for the words that are long enough."
   ]
  },
  {
   "cell_type": "code",
   "execution_count": 1,
   "id": "c013f077",
   "metadata": {},
   "outputs": [
    {
     "name": "stdout",
     "output_type": "stream",
     "text": [
      "Index Error\n",
      "Index Error\n",
      "Index Error\n",
      "Index Error\n",
      "['o', 'k', 't']\n"
     ]
    }
   ],
   "source": [
    "words = [\"chocolate\", \"chicken\", \"soup\", \"potatoes\", \"beef\", \"lox\", \"beef\"]\n",
    "fifth_letter = []\n",
    "for w in words:\n",
    "    try:\n",
    "        fifth_letter.append(w[4])\n",
    "    except IndexError as error:\n",
    "        print(\"Index Error\")\n",
    "    \n",
    "    \n",
    "print(fifth_letter)"
   ]
  },
  {
   "cell_type": "markdown",
   "id": "0b2889e7",
   "metadata": {},
   "source": [
    "### Exercise 2\n",
    "The following function is suppose to safely return the element specified by the index from a list of values – i.e., if the index is outside the bounds of the list, it should return the constant None. At the moment, it generates an error. Include a try/except clause to handle the error."
   ]
  },
  {
   "cell_type": "code",
   "execution_count": 2,
   "id": "20b48bc2",
   "metadata": {},
   "outputs": [
    {
     "name": "stdout",
     "output_type": "stream",
     "text": [
      "b\n",
      "Index Error\n",
      "None\n"
     ]
    }
   ],
   "source": [
    "def get_value(values, index):\n",
    "    try:\n",
    "        return values[index]\n",
    "    except IndexError as error:\n",
    "        return print(\"Index Error\")\n",
    "\n",
    "# sample list data\n",
    "my_list = ['a', 'b', 'c']\n",
    "print(get_value(my_list, 1))\n",
    "print(get_value(my_list, 4))"
   ]
  },
  {
   "cell_type": "markdown",
   "id": "e85433bc",
   "metadata": {},
   "source": [
    "### Exercise 3 \n",
    "Write a function called batch_log that calculates and prints the log base 10 value for each element of a list passed as parameter. Use exception handling to skip the calculation of any value that produces an error."
   ]
  },
  {
   "cell_type": "code",
   "execution_count": 3,
   "id": "461972be",
   "metadata": {},
   "outputs": [
    {
     "name": "stdout",
     "output_type": "stream",
     "text": [
      "-0.09691001300805639\n",
      "Error: calculation skipped\n",
      "-0.045757490560675115\n",
      "Error: calculation skipped\n",
      "-1.0\n",
      "-0.5228787452745469\n",
      "Error: calculation skipped\n",
      "-0.3010299956639812\n",
      "0.0\n",
      "Error: calculation skipped\n",
      "-0.045757490560675115\n",
      "-0.045757490560675115\n",
      "-1.0\n",
      "0.0\n",
      "-0.6989700043360187\n",
      "-0.6989700043360187\n",
      "-1.0\n",
      "-0.045757490560675115\n",
      "Error: calculation skipped\n",
      "0.0\n"
     ]
    }
   ],
   "source": [
    "# import math library (required for log function)\n",
    "import math\n",
    "# write your function here – use math.log() to calculate the log value\n",
    "def batch_log(n):\n",
    "    for num in n:\n",
    "        try:\n",
    "            print(math.log10(num))\n",
    "        except:\n",
    "            print(\"Error: calculation skipped\")\n",
    "\n",
    "values = [0.8, -0.1, 0.9, -0.1, 0.1, 0.300000000004, -0.1, 0.5, 1.0, -0.1,\n",
    "0.9, 0.9, 0.1, 1.0, 0.2, 0.2, 0.1, 0.9, 0.0, 1.0]\n",
    "batch_log(values)"
   ]
  },
  {
   "cell_type": "markdown",
   "id": "80591fbf",
   "metadata": {},
   "source": [
    "### Exercise 4\n",
    "Consider the following implementation of an Account class and a withdraw method. create a custom exception type name InsufficientBalanceError and modify the code to raise this type of exception every time there is an attempt to withdraw a value greater than the current available balance:"
   ]
  },
  {
   "cell_type": "code",
   "execution_count": 4,
   "id": "ac799848",
   "metadata": {},
   "outputs": [
    {
     "name": "stdout",
     "output_type": "stream",
     "text": [
      "ERROR: This value is too large, try again!\n"
     ]
    }
   ],
   "source": [
    "# define Python user-defined exceptions\n",
    "class Error(Exception):\n",
    "    pass\n",
    "\n",
    "class InsufficientBalanceError(Error):\n",
    "    pass\n",
    "\n",
    "class Account:\n",
    "    def __init__(self, number, balance):\n",
    "        self.number = number\n",
    "        self.balance = balance\n",
    "    \n",
    "    def withdraw(self, value):\n",
    "        # TODO: withdraw cannot happen if value is greater than balance\n",
    "        try:\n",
    "            if(value > self.balance):\n",
    "                raise InsufficientBalanceError\n",
    "            else:\n",
    "                self.balance -= value\n",
    "        except InsufficientBalanceError:\n",
    "            print(\"ERROR: This value is too large, try again!\")\n",
    "\n",
    "# sample code\n",
    "account = Account(\"1000\", 100)\n",
    "account.withdraw(200)"
   ]
  },
  {
   "cell_type": "markdown",
   "id": "03e2b89b",
   "metadata": {},
   "source": [
    "### Exercise 5\n",
    "Create a NumPy multidimensional array (10 rows x 5 columns) with random values."
   ]
  },
  {
   "cell_type": "code",
   "execution_count": 5,
   "id": "818e5bcc",
   "metadata": {},
   "outputs": [
    {
     "name": "stdout",
     "output_type": "stream",
     "text": [
      "[[-0.99388151  0.55749047 -0.02507538 -1.23914866  0.33046598]\n",
      " [ 0.21182278  2.01907207 -0.38339718  0.88618678  0.82399107]\n",
      " [-0.07271404  0.1936452   0.05796381 -0.38767002 -0.11092428]\n",
      " [ 0.1309269   0.1755817   0.13282698 -1.35911098 -0.02180102]\n",
      " [-2.31037508  0.80335168 -0.88715005 -0.38771659 -0.27924618]\n",
      " [ 1.4679023  -0.23324138  0.12416764 -0.30534919 -0.23015475]\n",
      " [ 0.95238113  0.25400051  1.11242934  0.05858001 -1.03463969]\n",
      " [ 0.44329586 -2.23508418 -1.91289208 -1.43346525  0.93814131]\n",
      " [-0.45177961  0.40142646 -0.06040392  0.3210529  -0.03603092]\n",
      " [-1.28472869  0.48375     0.08299786  1.23982906 -0.60465929]]\n"
     ]
    }
   ],
   "source": [
    "import numpy as np\n",
    "data = np.random.randn(10,5) # 10 random numbers' array\n",
    "\n",
    "print(data)"
   ]
  },
  {
   "cell_type": "markdown",
   "id": "43a27a34",
   "metadata": {},
   "source": [
    "### Exercise 6\n",
    "Using the array created in (5), write a function that returns the index of the row with the highest mean value."
   ]
  },
  {
   "cell_type": "code",
   "execution_count": 10,
   "id": "2162943f",
   "metadata": {},
   "outputs": [
    {
     "data": {
      "text/plain": [
       "1.2398290600807063"
      ]
     },
     "execution_count": 10,
     "metadata": {},
     "output_type": "execute_result"
    }
   ],
   "source": [
    "def return_max_row(n):\n",
    "    maxValues = n.max(axis = 1)\n",
    "    max_value=-math.inf\n",
    "\n",
    "    for num in maxValues:\n",
    "        if(num > max_value):\n",
    "                value = num\n",
    "    return value\n",
    "\n",
    "return_max_row(data)"
   ]
  },
  {
   "cell_type": "markdown",
   "id": "15cb4463",
   "metadata": {},
   "source": [
    "### Exercise 7\n",
    "Using the array created in (5), write a function that returns the index of the column with the highest mean value."
   ]
  },
  {
   "cell_type": "code",
   "execution_count": 11,
   "id": "debe2f8c",
   "metadata": {},
   "outputs": [
    {
     "data": {
      "text/plain": [
       "0.9381413139478954"
      ]
     },
     "execution_count": 11,
     "metadata": {},
     "output_type": "execute_result"
    }
   ],
   "source": [
    "def return_max_column(n):\n",
    "    maxValues = n.max(axis = 0)\n",
    "    max_value=-math.inf\n",
    "\n",
    "    for num in maxValues:\n",
    "        if(num > max_value):\n",
    "                value = num\n",
    "    return value\n",
    "\n",
    "return_max_column(data)"
   ]
  },
  {
   "cell_type": "markdown",
   "id": "9420cfb7",
   "metadata": {},
   "source": [
    "### Exercise 8\n",
    "Using the array create in (5), write a function that return a tuple (row, column)\n",
    "representing the indexes of the row and column of the maximum value in the array."
   ]
  },
  {
   "cell_type": "code",
   "execution_count": null,
   "id": "e2a9e62b",
   "metadata": {},
   "outputs": [],
   "source": [
    "import numpy as np\n",
    "def calculate_max(n):\n",
    "    row,column = np.where(n == n.max())\n",
    "    return row[0], column[0]\n",
    "\n",
    "calculate_max(data)"
   ]
  },
  {
   "cell_type": "code",
   "execution_count": null,
   "id": "533eeefc",
   "metadata": {},
   "outputs": [],
   "source": [
    "data.shape # returns the dimension of the 2D array"
   ]
  },
  {
   "cell_type": "code",
   "execution_count": null,
   "id": "ddfaf600",
   "metadata": {},
   "outputs": [],
   "source": [
    "import math\n",
    "def calculate_max_new(n):\n",
    "    max_value=-math.inf\n",
    "    for row in range(n.shape[0]):\n",
    "        for column in range(n.shape[1]):\n",
    "            if(n[row][column] > max_value):\n",
    "                max_value = n[row][column]\n",
    "                atuple=(row,column)\n",
    "    return atuple\n",
    "\n",
    "calculate_max_new(data)"
   ]
  }
 ],
 "metadata": {
  "kernelspec": {
   "display_name": "Python 3 (ipykernel)",
   "language": "python",
   "name": "python3"
  },
  "language_info": {
   "codemirror_mode": {
    "name": "ipython",
    "version": 3
   },
   "file_extension": ".py",
   "mimetype": "text/x-python",
   "name": "python",
   "nbconvert_exporter": "python",
   "pygments_lexer": "ipython3",
   "version": "3.8.10"
  }
 },
 "nbformat": 4,
 "nbformat_minor": 5
}
