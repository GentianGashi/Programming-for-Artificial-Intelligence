{
 "cells": [
  {
   "cell_type": "markdown",
   "id": "3461249e",
   "metadata": {},
   "source": [
    "# Introduction to Programming Artificial Intelligence \n",
    "\n",
    "## Class 4 - Lamba\n",
    "\n",
    "- Lamba\n",
    "- Lamba w/ filter\n",
    "- Lamba w/ map"
   ]
  },
  {
   "cell_type": "markdown",
   "id": "39d982ce",
   "metadata": {},
   "source": [
    "### Exercise 1\n",
    "\n",
    "Implement a recursive function to compute the nth Fibonacci number.\n",
    "The function should accept 3 arguments, two of them should have\n",
    "default values. The recursion begins with a single argument\n",
    "\n",
    "- [0, 1, 1, 2, 3, 5, 8, 13, 21]\n",
    "- Fib (8) -> 13"
   ]
  },
  {
   "cell_type": "code",
   "execution_count": 35,
   "id": "ba62fffc",
   "metadata": {},
   "outputs": [
    {
     "data": {
      "text/plain": [
       "1"
      ]
     },
     "execution_count": 35,
     "metadata": {},
     "output_type": "execute_result"
    }
   ],
   "source": [
    "def Fib (n, a=0,b=1):\n",
    "    c = a + b\n",
    "    \n",
    "    if n in {0, 1}:  return n\n",
    "    \n",
    "    return Fib(n-1, a=b, b=c)\n",
    "    \n",
    "Fib(8)"
   ]
  },
  {
   "cell_type": "markdown",
   "id": "0b2889e7",
   "metadata": {},
   "source": [
    "### Exercise 2\n",
    "Using a lambda, use filter() to accept a list and filter the integers that are\n",
    "divisible by 3. Use the modulus operator."
   ]
  },
  {
   "cell_type": "code",
   "execution_count": null,
   "id": "47ce37b8",
   "metadata": {},
   "outputs": [],
   "source": [
    "N = [3, 4, 7, 8, 9, 12, 13]\n",
    "list(filter (lambda x: x % 3 == 0, N))"
   ]
  },
  {
   "cell_type": "markdown",
   "id": "e85433bc",
   "metadata": {},
   "source": [
    "### Exercise 3 \n",
    "Using a lambda, use filter() to accept a list of pairs and accept the pairs\n",
    "whose elements are equal."
   ]
  },
  {
   "cell_type": "code",
   "execution_count": null,
   "id": "d1d39712",
   "metadata": {},
   "outputs": [],
   "source": [
    "N = [[1,1], [2, 5], [4, 4], [9, 9], [5, 3]]\n",
    "list(filter (lambda x: x[0] == x[1], N))"
   ]
  },
  {
   "cell_type": "markdown",
   "id": "332a7314",
   "metadata": {},
   "source": [
    "### Exercise 4\n",
    "Using a lambda, implement a map() that accepts a list of lists and returns\n",
    "the sums of the sublists."
   ]
  },
  {
   "cell_type": "code",
   "execution_count": null,
   "id": "e1c95960",
   "metadata": {},
   "outputs": [],
   "source": [
    "N = [[1, 5, 3], [3, 6], [9, 11, 45, 11], [5, 2, 6, 3, 7]]\n",
    "list (map (lambda x: sum(x), N))"
   ]
  },
  {
   "cell_type": "markdown",
   "id": "de39bcd4",
   "metadata": {},
   "source": [
    "### Exercise 5\n",
    "* Use the reduce() function to implement factorial, N!."
   ]
  },
  {
   "cell_type": "code",
   "execution_count": null,
   "id": "235b9aef",
   "metadata": {},
   "outputs": [],
   "source": [
    "from functools import reduce\n",
    "## first method\n",
    "n=5\n",
    "reduce(lambda integer,factorial: integer*factorial, [1] if n==0 else range(1,n+1))"
   ]
  },
  {
   "cell_type": "code",
   "execution_count": null,
   "id": "28402c18",
   "metadata": {},
   "outputs": [],
   "source": [
    "from functools import reduce\n",
    "## second method\n",
    "def factorial(n):\n",
    "    if(n==0):\n",
    "        return 1\n",
    "    else:\n",
    "        return reduce(lambda x,y: x*y, range(1,n+1))\n",
    "\n",
    "factorial(5)"
   ]
  },
  {
   "cell_type": "markdown",
   "id": "033da764",
   "metadata": {},
   "source": [
    "### Exercise 6\n",
    "Write a function, called Convolve, that accepts three arguments. The\n",
    "first argument is a function. The second and third arguments will be\n",
    "used as arguments for the first argument by Convolve. Convolve will\n",
    "return the results packaged in a list. For example:\n",
    "Convolve (map, exercise 4 lambda, exercise 4 input) -> [9, 9, 76, 23]"
   ]
  },
  {
   "cell_type": "code",
   "execution_count": null,
   "id": "26033770",
   "metadata": {},
   "outputs": [],
   "source": []
  }
 ],
 "metadata": {
  "kernelspec": {
   "display_name": "Python 3 (ipykernel)",
   "language": "python",
   "name": "python3"
  },
  "language_info": {
   "codemirror_mode": {
    "name": "ipython",
    "version": 3
   },
   "file_extension": ".py",
   "mimetype": "text/x-python",
   "name": "python",
   "nbconvert_exporter": "python",
   "pygments_lexer": "ipython3",
   "version": "3.8.10"
  }
 },
 "nbformat": 4,
 "nbformat_minor": 5
}
